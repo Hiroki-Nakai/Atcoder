{
 "cells": [
  {
   "cell_type": "code",
   "execution_count": 5,
   "metadata": {},
   "outputs": [
    {
     "data": {
      "text/html": [
       "<link rel=\"stylesheet\" href=\"./style.css\">\n",
       "<div id=\"page_top\"><a href=\"#top\"></a></div>\n"
      ],
      "text/plain": [
       "<IPython.core.display.HTML object>"
      ]
     },
     "metadata": {},
     "output_type": "display_data"
    }
   ],
   "source": [
    "%%html\n",
    "<link rel=\"stylesheet\" href=\"./style.css\">\n",
    "<div id=\"page_top\"><a href=\"#top\"></a></div>"
   ]
  },
  {
   "cell_type": "markdown",
   "metadata": {},
   "source": [
    "コピペ用"
   ]
  },
  {
   "cell_type": "code",
   "execution_count": null,
   "metadata": {},
   "outputs": [],
   "source": [
    "from collections import defaultdict, deque\n",
    "import sys, math, bisect, heapq\n",
    "\n",
    "# int input\n",
    "ii = lambda: int(input())\n",
    "# map int input\n",
    "mii = lambda: map(int, input().split())\n",
    "# list map int input\n",
    "lmii = lambda: list(mii())\n",
    "# list int input\n",
    "lii = lambda x: [ii() for _ in range(x)]\n",
    "# list list int input\n",
    "llii = lambda x: [lmii() for _ in range(x)]\n",
    "\n",
    "# string input\n",
    "si = lambda: input()\n",
    "# map int input\n",
    "msi = lambda: map(str, input().split())\n",
    "# map string input\n",
    "lmsi = lambda: list(msi())\n",
    "# list string input\n",
    "lsi = lambda x: [si() for _ in range(x)]\n",
    "# list list string input\n",
    "llsi = lambda x: [lmsi() for _ in range(x)]\n",
    "\n",
    "YES = lambda: print(\"YES\")\n",
    "NO = lambda: print(\"NO\")\n",
    "Yes = lambda: print(\"Yes\")\n",
    "No = lambda: print(\"No\")\n",
    "yes = lambda: print(\"yes\")\n",
    "no = lambda: print(\"no\")\n",
    "\n",
    "INF = 10 ** 18\n",
    "\n"
   ]
  },
  {
   "cell_type": "markdown",
   "metadata": {},
   "source": [
    "---\n",
    "<a id=\"top\"></a>"
   ]
  },
  {
   "cell_type": "markdown",
   "metadata": {
    "collapsed": true
   },
   "source": [
    "# Atcoder覚書"
   ]
  },
  {
   "cell_type": "markdown",
   "metadata": {},
   "source": [
    "- [基本編](#基本編)\n",
    "- [tips](#tips)\n",
    "- [数学的問題](#数学的問題)\n",
    "- [アルゴリズム](#アルゴリズム)\n",
    "- [ゲーム理論](#ゲーム理論)"
   ]
  },
  {
   "cell_type": "markdown",
   "metadata": {},
   "source": [
    "---"
   ]
  },
  {
   "cell_type": "markdown",
   "metadata": {},
   "source": [
    "## 基本編\n",
    "<a id=\"基本編\"></a>\n",
    "1. [よく使うライブラリ](#よく使うライブラリ)\n",
    "2. [入力](#input)\n",
    "3. [出力](#output)\n",
    "4. [文字コード](#文字コード)"
   ]
  },
  {
   "cell_type": "markdown",
   "metadata": {},
   "source": [
    "---"
   ]
  },
  {
   "cell_type": "markdown",
   "metadata": {},
   "source": [
    "### 1. よく使うライブラリ\n",
    "<a id=\"よく使うライブラリ\"></a>"
   ]
  },
  {
   "cell_type": "code",
   "execution_count": 3,
   "metadata": {},
   "outputs": [],
   "source": [
    "from collections import defaultdict, deque\n",
    "import sys, math, bisect, heapq"
   ]
  },
  {
   "cell_type": "markdown",
   "metadata": {},
   "source": [
    "### 2. 入力\n",
    "<a id=\"input\"></a>"
   ]
  },
  {
   "cell_type": "code",
   "execution_count": 2,
   "metadata": {},
   "outputs": [],
   "source": [
    "# int input\n",
    "ii = lambda: int(input())\n",
    "# map int input\n",
    "mii = lambda: map(int, input().split())\n",
    "# list map int input\n",
    "lmii = lambda: list(mii())\n",
    "# list int input\n",
    "lii = lambda x: [ii() for _ in range(x)]\n",
    "# list list int input\n",
    "llii = lambda x: [lmii() for _ in range(x)]\n",
    "\n",
    "# string input\n",
    "si = lambda: input()\n",
    "# map int input\n",
    "msi = lambda: map(str, input().split())\n",
    "# map string input\n",
    "lmsi = lambda: list(msi())\n",
    "# list string input\n",
    "lsi = lambda x: [si() for _ in range(x)]\n",
    "# list list string input\n",
    "llsi = lambda x: [lmsi() for _ in range(x)]"
   ]
  },
  {
   "cell_type": "code",
   "execution_count": 4,
   "metadata": {},
   "outputs": [
    {
     "name": "stdout",
     "output_type": "stream",
     "text": [
      "- ii() -----\n",
      "3\n",
      "- mii() ----\n",
      "3 6 9\n",
      "- lmii() ---\n",
      "1 2 3 4 5 6 7\n",
      "- lii() ---\n",
      "1\n",
      "2\n",
      "3\n",
      "- llii() ---\n",
      "1 2 3 4 5\n",
      "6 7 8 9 1\n",
      "2 3 4 5 6\n",
      "- si() -----\n",
      "atcoder\n",
      "- msi() ----\n",
      "abcd efgh ijkl\n",
      "- lmsi() ---\n",
      "abc agc arc ahc\n",
      "- lsi() ----\n",
      "aaaa\n",
      "bbbb\n",
      "cccc\n",
      "- llsi() ----\n",
      "12 ab 45 cd\n",
      "67 ef 89 gh\n",
      "12 ij 34 kl\n"
     ]
    }
   ],
   "source": [
    "print(\"- ii() -----\")\n",
    "N = ii()\n",
    "print(\"- mii() ----\")\n",
    "N, M, K = mii()\n",
    "print(\"- lmii() ---\")\n",
    "A = lmii()\n",
    "print(\"- lii() ---\")\n",
    "A = lii(N)\n",
    "print(\"- llii() ---\")\n",
    "VM = llii(N)\n",
    "print(\"- si() -----\")\n",
    "s = si()\n",
    "print(\"- msi() ----\")\n",
    "s1, s2, s3 = msi()\n",
    "print(\"- lmsi() ---\")\n",
    "S = lmsi()\n",
    "print(\"- lsi() ----\")\n",
    "S = lsi(N)\n",
    "print(\"- llsi() ----\")\n",
    "S = llsi(N)"
   ]
  },
  {
   "cell_type": "markdown",
   "metadata": {},
   "source": [
    "#### 整数入力"
   ]
  },
  {
   "cell_type": "code",
   "execution_count": 1,
   "metadata": {},
   "outputs": [
    {
     "name": "stdout",
     "output_type": "stream",
     "text": [
      "2\n"
     ]
    }
   ],
   "source": [
    "N = int(input())"
   ]
  },
  {
   "cell_type": "markdown",
   "metadata": {},
   "source": [
    "1行2列の整数入力"
   ]
  },
  {
   "cell_type": "code",
   "execution_count": 2,
   "metadata": {},
   "outputs": [
    {
     "name": "stdout",
     "output_type": "stream",
     "text": [
      "2 3\n"
     ]
    }
   ],
   "source": [
    "N, M = map(int, input().split())"
   ]
  },
  {
   "cell_type": "markdown",
   "metadata": {},
   "source": [
    "1行複数列の整数入力"
   ]
  },
  {
   "cell_type": "code",
   "execution_count": 3,
   "metadata": {},
   "outputs": [
    {
     "name": "stdout",
     "output_type": "stream",
     "text": [
      "1 2 3 4 5\n"
     ]
    }
   ],
   "source": [
    "A = list(map(int, input().split()))"
   ]
  },
  {
   "cell_type": "markdown",
   "metadata": {},
   "source": [
    "N行M列の整数入力"
   ]
  },
  {
   "cell_type": "code",
   "execution_count": 4,
   "metadata": {},
   "outputs": [
    {
     "name": "stdout",
     "output_type": "stream",
     "text": [
      "1 2 3\n",
      "4 5 6\n"
     ]
    }
   ],
   "source": [
    "A = [list(map(int, input().split())) for _ in range(N)]"
   ]
  },
  {
   "cell_type": "markdown",
   "metadata": {},
   "source": [
    "#### 文字列入力"
   ]
  },
  {
   "cell_type": "markdown",
   "metadata": {},
   "source": [
    "1文字列の入力"
   ]
  },
  {
   "cell_type": "code",
   "execution_count": 5,
   "metadata": {},
   "outputs": [
    {
     "name": "stdout",
     "output_type": "stream",
     "text": [
      "Atcoder\n"
     ]
    }
   ],
   "source": [
    "S = input()"
   ]
  },
  {
   "cell_type": "markdown",
   "metadata": {},
   "source": [
    "1行複数列の文字列入力"
   ]
  },
  {
   "cell_type": "code",
   "execution_count": 6,
   "metadata": {},
   "outputs": [
    {
     "name": "stdout",
     "output_type": "stream",
     "text": [
      "abc arc agc\n"
     ]
    }
   ],
   "source": [
    "S = list(map(str, input()))"
   ]
  },
  {
   "cell_type": "markdown",
   "metadata": {},
   "source": [
    "N行1列の文字列入力"
   ]
  },
  {
   "cell_type": "code",
   "execution_count": 7,
   "metadata": {},
   "outputs": [
    {
     "name": "stdout",
     "output_type": "stream",
     "text": [
      "abc\n",
      "arc\n"
     ]
    }
   ],
   "source": [
    "S = [input() for _ in range(N)]"
   ]
  },
  {
   "cell_type": "markdown",
   "metadata": {},
   "source": [
    "N行M列の文字列入力"
   ]
  },
  {
   "cell_type": "code",
   "execution_count": 8,
   "metadata": {
    "scrolled": true
   },
   "outputs": [
    {
     "name": "stdout",
     "output_type": "stream",
     "text": [
      "abc agc arc\n",
      "aaa bbb ccc\n"
     ]
    }
   ],
   "source": [
    "S = [list(map(str, input())) for i in range(N)]"
   ]
  },
  {
   "cell_type": "markdown",
   "metadata": {},
   "source": [
    "---"
   ]
  },
  {
   "cell_type": "markdown",
   "metadata": {},
   "source": [
    "### 3. 出力\n",
    "<a id=\"output\"></a>"
   ]
  },
  {
   "cell_type": "code",
   "execution_count": 9,
   "metadata": {},
   "outputs": [],
   "source": [
    "A = [1, 2, 3, 4, 5, 6, 7, 8, 9, 10]\n",
    "S = [\"A\", \"t\", \"c\", \"o\", \"d\", \"e\", \"r\"]"
   ]
  },
  {
   "cell_type": "markdown",
   "metadata": {},
   "source": [
    "リストを1行で出力"
   ]
  },
  {
   "cell_type": "code",
   "execution_count": 10,
   "metadata": {},
   "outputs": [
    {
     "name": "stdout",
     "output_type": "stream",
     "text": [
      "1 2 3 4 5 6 7 8 9 10\n"
     ]
    }
   ],
   "source": [
    "print(*A)"
   ]
  },
  {
   "cell_type": "markdown",
   "metadata": {},
   "source": [
    "リストを1要素ごとに改行して出力"
   ]
  },
  {
   "cell_type": "code",
   "execution_count": 11,
   "metadata": {},
   "outputs": [
    {
     "name": "stdout",
     "output_type": "stream",
     "text": [
      "1\n",
      "2\n",
      "3\n",
      "4\n",
      "5\n",
      "6\n",
      "7\n",
      "8\n",
      "9\n",
      "10\n"
     ]
    }
   ],
   "source": [
    "for a in A:\n",
    "    print(a)"
   ]
  },
  {
   "cell_type": "markdown",
   "metadata": {},
   "source": [
    "文字列リストを結合して出力"
   ]
  },
  {
   "cell_type": "code",
   "execution_count": 12,
   "metadata": {
    "scrolled": true
   },
   "outputs": [
    {
     "name": "stdout",
     "output_type": "stream",
     "text": [
      "Atcoder\n"
     ]
    }
   ],
   "source": [
    "print(\"\".join(S))"
   ]
  },
  {
   "cell_type": "markdown",
   "metadata": {},
   "source": [
    "### 4. 文字コード\n",
    "<a id=\"文字コード\"></a>"
   ]
  },
  {
   "cell_type": "markdown",
   "metadata": {},
   "source": [
    "文字コード"
   ]
  },
  {
   "cell_type": "code",
   "execution_count": 1,
   "metadata": {},
   "outputs": [
    {
     "name": "stdout",
     "output_type": "stream",
     "text": [
      "A 65\n",
      "a 97\n"
     ]
    }
   ],
   "source": [
    "s = \"A\"\n",
    "print(s, ord(s))\n",
    "s = \"a\"\n",
    "print(s, ord(s))"
   ]
  },
  {
   "cell_type": "code",
   "execution_count": 5,
   "metadata": {},
   "outputs": [
    {
     "name": "stdout",
     "output_type": "stream",
     "text": [
      "A\n"
     ]
    }
   ],
   "source": [
    "print(chr(65))"
   ]
  },
  {
   "cell_type": "code",
   "execution_count": 2,
   "metadata": {},
   "outputs": [
    {
     "name": "stdout",
     "output_type": "stream",
     "text": [
      "ABCDEFG\n",
      "abcdefg\n"
     ]
    }
   ],
   "source": [
    "s = \"abcdefg\"\n",
    "print(s.upper())\n",
    "s = \"ABCDEFG\"\n",
    "print(s.lower())"
   ]
  },
  {
   "cell_type": "markdown",
   "metadata": {},
   "source": [
    "[アルファベット一覧出力](https://tech-shelf.hatenablog.com/entry/programming/alphabet_list)"
   ]
  },
  {
   "cell_type": "code",
   "execution_count": 6,
   "metadata": {},
   "outputs": [
    {
     "name": "stdout",
     "output_type": "stream",
     "text": [
      "abcdefghijklmnopqrstuvwxyzABCDEFGHIJKLMNOPQRSTUVWXYZ\n",
      "abcdefghijklmnopqrstuvwxyz\n",
      "ABCDEFGHIJKLMNOPQRSTUVWXYZ\n",
      "0123456789\n"
     ]
    }
   ],
   "source": [
    "import string\n",
    "#アルファベットの大文字小文字の出力\n",
    "print(string.ascii_letters)\n",
    "#アルファベットの小文字のみの出力\n",
    "print(string.ascii_lowercase)\n",
    "#アルファベットの大文字のみの出力\n",
    "print(string.ascii_uppercase)\n",
    "#数値の文字列の出力\n",
    "print(string.digits)"
   ]
  },
  {
   "cell_type": "markdown",
   "metadata": {},
   "source": [
    "大文字,小文字 判定"
   ]
  },
  {
   "cell_type": "code",
   "execution_count": 2,
   "metadata": {},
   "outputs": [
    {
     "name": "stdout",
     "output_type": "stream",
     "text": [
      "a lower\n",
      "A upper\n",
      "b lower\n",
      "B upper\n"
     ]
    }
   ],
   "source": [
    "S = \"aAbB\"\n",
    "for s in S:\n",
    "    if s.isupper():\n",
    "        print(s, \"upper\")\n",
    "    elif s.islower():\n",
    "        print(s, \"lower\")"
   ]
  },
  {
   "cell_type": "markdown",
   "metadata": {},
   "source": [
    "**例題**\n",
    "- [ABC291A](https://atcoder.jp/contests/abc291/tasks/abc291_a)"
   ]
  },
  {
   "cell_type": "markdown",
   "metadata": {},
   "source": [
    "---"
   ]
  },
  {
   "cell_type": "markdown",
   "metadata": {},
   "source": [
    "## tips\n",
    "<a id=\"tips\"></a>"
   ]
  },
  {
   "cell_type": "markdown",
   "metadata": {},
   "source": [
    "- 確率 $p$ で成功する試行において、成功するまでの試行を行うときの試行回数の期待値は $\\frac{1}{p}$ である\n",
    "    - [例題1](https://atcoder.jp/contests/abc280/submissions/40314960)\n",
    "    \n",
    "    \n",
    "- float(\"inf\")は重い。```INF = 10 ** 18``` などを利用した方がいい\n",
    "    - 参考は[こちら](https://qiita.com/c-yan/items/dbf2838cdd89864ef5ac)\n",
    "    \n",
    "\n",
    "- [Python 高速化 Tips](https://qiita.com/shoji9x9/items/e7d19bd6f54e960f46be)\n",
    "\n",
    "\n",
    "- list より tuple の方が高速"
   ]
  },
  {
   "cell_type": "markdown",
   "metadata": {},
   "source": [
    "---"
   ]
  },
  {
   "cell_type": "markdown",
   "metadata": {},
   "source": [
    "## 数学的問題\n",
    "<a id=\"数学的問題\"></a>\n",
    "1. [素数](#素数)\n",
    "2. [最大公約数、最小公倍数](#最大公約数、最小公倍数)\n",
    "3. [階乗、組み合わせ](#階乗、組み合わせ)\n",
    "4. [繰り返し二乗法](#繰り返し二乗法)\n",
    "5. [余りの計算(割り算)](#余りの計算(割り算))\n",
    "6. [行列計算](#行列計算)  \n",
    "7. [三角形の計算](#三角形の計算)  \n",
    "8. [円公差判定](#円公差判定)  \n",
    "9. [線分公差判定](#線分公差判定)\n",
    "10. [順列、組み合わせ](#順列、組み合わせ)\n",
    "11. [確率mod](#確率mod)\n",
    "12. [期待値問題](#期待値問題)\n",
    "13. [合成関数問題](#合成関数問題)\n",
    "14. [行列累乗](#行列累乗)"
   ]
  },
  {
   "cell_type": "markdown",
   "metadata": {},
   "source": [
    "---"
   ]
  },
  {
   "cell_type": "markdown",
   "metadata": {},
   "source": [
    "### 1. 素数\n",
    "<a id=\"素数\"></a>\n",
    "- [エラトステネスの篩](#エラトステネスの篩)\n",
    "- [素数の例](#素数の例)"
   ]
  },
  {
   "cell_type": "markdown",
   "metadata": {},
   "source": [
    "#### エラトステネスの篩\n",
    "<a id=\"エラトステネスの篩\"></a>\n",
    "- 高速に素数を列挙するアルゴリズム（計算量 $O(N\\log \\log N)$)"
   ]
  },
  {
   "cell_type": "code",
   "execution_count": null,
   "metadata": {},
   "outputs": [],
   "source": [
    "# 素数であればTrue そうでなければFalseであるリストを返す関数\n",
    "# n = 10**6 or 7 くらいまで\n",
    "def eratosthenes(n):\n",
    "    is_prime = ([False, True] * (n//2+1))[0: n+1]\n",
    "    is_prime[1] = False\n",
    "    is_prime[2] = True\n",
    "    for i in range(3, n+1, 2):\n",
    "        if not(is_prime[i]):\n",
    "            continue\n",
    "        if i*i > n:\n",
    "            break\n",
    "        for k in range(i*i, n+1, i):\n",
    "            is_prime[k] = False\n",
    "    return is_prime"
   ]
  },
  {
   "cell_type": "markdown",
   "metadata": {},
   "source": [
    "#### 素数の例\n",
    "<a id=\"素数の例\"></a>"
   ]
  },
  {
   "cell_type": "markdown",
   "metadata": {},
   "source": [
    "[10**8に近い素数](https://ja.wolframalpha.com/input?i=100000000%E3%81%AB%E8%BF%91%E3%81%84%E7%B4%A0%E6%95%B0)"
   ]
  },
  {
   "cell_type": "markdown",
   "metadata": {},
   "source": [
    "- 8桁（99999959, 99999971, 99999989）\n",
    "- 9桁（999999893, 999999929, 999999937）\n",
    "- 10桁 （1000000007, 1000000009, 1000000021）"
   ]
  },
  {
   "cell_type": "markdown",
   "metadata": {},
   "source": [
    "---"
   ]
  },
  {
   "cell_type": "markdown",
   "metadata": {},
   "source": [
    "### 2. 最大公約数、最小公倍数\n",
    "<a id=\"最大公約数、最小公倍数\"></a>"
   ]
  },
  {
   "cell_type": "markdown",
   "metadata": {},
   "source": [
    "#### 最大公約数"
   ]
  },
  {
   "cell_type": "code",
   "execution_count": null,
   "metadata": {},
   "outputs": [],
   "source": [
    "import math\n",
    "math.gcd(a, b)"
   ]
  },
  {
   "cell_type": "markdown",
   "metadata": {},
   "source": [
    "#### 最小公倍数"
   ]
  },
  {
   "cell_type": "code",
   "execution_count": null,
   "metadata": {},
   "outputs": [],
   "source": [
    "import math\n",
    "\n",
    "def lcm(a, b):\n",
    "    return a * b // math.gcd(a, b)"
   ]
  },
  {
   "cell_type": "markdown",
   "metadata": {},
   "source": [
    "---"
   ]
  },
  {
   "cell_type": "markdown",
   "metadata": {},
   "source": [
    "### 3. 階乗、組み合わせ\n",
    "<a id=\"階乗、組み合わせ\"></a>"
   ]
  },
  {
   "cell_type": "code",
   "execution_count": null,
   "metadata": {},
   "outputs": [],
   "source": [
    "def cmb(n, r, p):\n",
    "    if (r < 0) or (n < r):\n",
    "        return 0\n",
    "    r = min(r, n - r)\n",
    "    return fact[n] * factinv[r] * factinv[n-r]# % p\n",
    "def prm(n, r, p):\n",
    "    if (r < 0) or (n < r):\n",
    "        return 0\n",
    "    return fact[n] * factinv[n-r]# % p\n",
    "p = 10 ** 9 + 7#mod\n",
    "fact = [1, 1]  # fact[n] = (n! mod p)\n",
    "factinv = [1, 1]  # factinv[n] = ((n!)^(-1) mod p)\n",
    "inv = [0, 1]  # factinv 計算用\n",
    "N = int(input()) #nの値\n",
    "for i in range(2, N + 1):\n",
    "    fact.append((fact[-1] * i) % p)\n",
    "    inv.append((-inv[p % i] * (p // i)) % p)\n",
    "    factinv.append((factinv[-1] * inv[-1]) % p)"
   ]
  },
  {
   "cell_type": "markdown",
   "metadata": {},
   "source": [
    "**例題**\n",
    "- [015 - Don't be too close（★6）](https://atcoder.jp/contests/typical90/tasks/typical90_o)"
   ]
  },
  {
   "cell_type": "markdown",
   "metadata": {},
   "source": [
    "---"
   ]
  },
  {
   "cell_type": "markdown",
   "metadata": {},
   "source": [
    "### 4. 繰り返し二乗法\n",
    "<a id=\"繰り返し二乗法\"></a>"
   ]
  },
  {
   "cell_type": "code",
   "execution_count": null,
   "metadata": {},
   "outputs": [],
   "source": [
    "pow(2,9)"
   ]
  },
  {
   "cell_type": "code",
   "execution_count": null,
   "metadata": {},
   "outputs": [],
   "source": [
    "# a の b 乗\n",
    "# mod はmod計算用の任意引数\n",
    "pow(a, b, mod)"
   ]
  },
  {
   "cell_type": "markdown",
   "metadata": {},
   "source": [
    "**例題**\n",
    "- [JSC2021D](https://atcoder.jp/contests/jsc2021/tasks/jsc2021_d)\n",
    "- [ARC111A](https://atcoder.jp/contests/arc111/tasks/arc111_a)"
   ]
  },
  {
   "cell_type": "markdown",
   "metadata": {},
   "source": [
    "$\n",
    "\\lfloor \\frac{10^N}{M} \\rfloor\n",
    "\\equiv\n",
    "\\lfloor \\frac{10^N-kM^2}{M} \\rfloor\n",
    "\\equiv\n",
    "\\lfloor \\frac{10^N}{M} - kM \\rfloor\n",
    "\\equiv\n",
    "\\lfloor \\frac{10^N}{M} \\rfloor - kM\n",
    "\\ \\ \n",
    "(\\mathrm{mod}\\ M)\n",
    "(k \\in \\mathbb{Z})\n",
    "$"
   ]
  },
  {
   "cell_type": "markdown",
   "metadata": {},
   "source": [
    "---"
   ]
  },
  {
   "cell_type": "markdown",
   "metadata": {},
   "source": [
    "### 5. 余りの計算(割り算)\n",
    "<a id=\"余りの計算(割り算)\"></a>\n",
    "鉄則本 p.173"
   ]
  },
  {
   "cell_type": "markdown",
   "metadata": {},
   "source": [
    "- **mod 上での「A÷B」を計算する関数**\n",
    "    - A / B % mod"
   ]
  },
  {
   "cell_type": "code",
   "execution_count": null,
   "metadata": {},
   "outputs": [],
   "source": [
    "def Division(A, B, mod):\n",
    "    a = A % mod\n",
    "    b = B % mod\n",
    "    ret = (a * pow(b, mod-2, mod)) % mod\n",
    "    return ret"
   ]
  },
  {
   "cell_type": "markdown",
   "metadata": {},
   "source": [
    "二項分布 $_nC_r = \\frac{n!}{r! \\times (n-r)!}$ を $Mod$ で割った余りは以下のアルゴリズムで計算することができる。\n",
    "1. 分子の値 $n!$ を $Mod$ で割った余り $a$ を計算する。\n",
    "2. 分母の値 $r! \\times (n-r)!$ を $Mod$ で割った余り $b$ を計算する。\n",
    "3. $a \\times b^{Mod-2}$ を $Mod$ で割った余りを計算する。これが答えである。"
   ]
  },
  {
   "cell_type": "code",
   "execution_count": null,
   "metadata": {},
   "outputs": [],
   "source": [
    "# n! を計算する関数\n",
    "def fac(n, mod):\n",
    "    ans = 1\n",
    "    for i in range(1,n+1):\n",
    "        ans = (ans*i) % mod\n",
    "    return ans\n",
    "# nCrを計算する関数\n",
    "def nCr(n, r, mod):\n",
    "    a = fac(n,mod) % mod\n",
    "    b = (fac(r, mod) % mod) *  (fac(n-r, mod) % mod)\n",
    "    ans = (a * pow(b, mod-2, mod)) % mod\n",
    "    return ans"
   ]
  },
  {
   "cell_type": "markdown",
   "metadata": {},
   "source": [
    "**例題**\n",
    "- [A30 - Combination](https://atcoder.jp/contests/tessoku-book/tasks/tessoku_book_ad)\n",
    "- [B30 - Combination 2](https://atcoder.jp/contests/tessoku-book/tasks/tessoku_book_dc)"
   ]
  },
  {
   "cell_type": "markdown",
   "metadata": {},
   "source": [
    "---"
   ]
  },
  {
   "cell_type": "markdown",
   "metadata": {},
   "source": [
    "### 6. 行列計算\n",
    "<a id=\"行列計算\"></a>"
   ]
  },
  {
   "cell_type": "code",
   "execution_count": null,
   "metadata": {},
   "outputs": [],
   "source": [
    "#mod=10**9+7\n",
    "def mat_product(A,B):\n",
    "    if len(A[0])!=len(B):\n",
    "        return None\n",
    "    new=[[0]*len(B[0]) for i in range(len(A))]\n",
    "    for i in range(len(A)):\n",
    "        for j in range(len(B[0])):\n",
    "            for k in range(len(B)):\n",
    "                new[i][j]+=A[i][k]*B[k][j]\n",
    "                #new[i][j]%=mod\n",
    "    return new"
   ]
  },
  {
   "cell_type": "markdown",
   "metadata": {},
   "source": [
    "**例題**\n",
    "- [R - Walk](https://atcoder.jp/contests/dp/tasks/dp_r)"
   ]
  },
  {
   "cell_type": "markdown",
   "metadata": {},
   "source": [
    "---"
   ]
  },
  {
   "cell_type": "markdown",
   "metadata": {},
   "source": [
    "### 7. 三角形の計算\n",
    "<a id=\"三角形の計算\"></a>"
   ]
  },
  {
   "cell_type": "markdown",
   "metadata": {},
   "source": [
    "**使い道**\n",
    "- 三点が与えられたときに三角形の面積を求める\n",
    "- 複数使って四角形や多角形などを求める場合もある"
   ]
  },
  {
   "cell_type": "code",
   "execution_count": null,
   "metadata": {},
   "outputs": [],
   "source": [
    "#三点の座標を入れる\n",
    "#(例)p1=[x,y]\n",
    "def tri_square(p1,p2,p3):\n",
    "    a=p2[0]-p1[0]\n",
    "    b=p2[1]-p1[1]\n",
    "    c=p3[0]-p1[0]\n",
    "    d=p3[1]-p1[1]\n",
    "    return abs(a*d-b*c)/2"
   ]
  },
  {
   "cell_type": "markdown",
   "metadata": {},
   "source": [
    "**例題**\n",
    "- [ABC250F](https://atcoder.jp/contests/abc250/tasks/abc250_f)"
   ]
  },
  {
   "cell_type": "markdown",
   "metadata": {},
   "source": [
    "---"
   ]
  },
  {
   "cell_type": "markdown",
   "metadata": {},
   "source": [
    "### 8. 円公差判定\n",
    "<a id=\"円公差判定\"></a>"
   ]
  },
  {
   "cell_type": "code",
   "execution_count": null,
   "metadata": {},
   "outputs": [],
   "source": [
    "#三点の座標を入れる\n",
    "#(例)c1=[x,y,r]\n",
    "#中心(x,y),半径r\n",
    "def circle_cross(c1,c2):\n",
    "    a=(c1[0]-c2[0])**2+(c1[1]-c2[1])**2\n",
    "    b=(c1[2]+c2[2])**2\n",
    "    c=(c1[2]-c2[2])**2\n",
    "    if a<=b and a>=c:\n",
    "        return True\n",
    "    else:\n",
    "        return False"
   ]
  },
  {
   "cell_type": "markdown",
   "metadata": {},
   "source": [
    "**例題**\n",
    "- [ABC259D](https://atcoder.jp/contests/abc259/tasks/abc259_d)"
   ]
  },
  {
   "cell_type": "markdown",
   "metadata": {},
   "source": [
    "---"
   ]
  },
  {
   "cell_type": "markdown",
   "metadata": {},
   "source": [
    "### 9. 線分公差判定\n",
    "<a id=\"線分公差判定\"></a>"
   ]
  },
  {
   "cell_type": "markdown",
   "metadata": {},
   "source": [
    "**使い道**\n",
    "- 線分の交差判定（直線でないことに注意）\n",
    "- 参考記事は[こちら](https://qiita.com/wihan23/items/03efd7cd40dfec96a987)"
   ]
  },
  {
   "cell_type": "code",
   "execution_count": null,
   "metadata": {},
   "outputs": [],
   "source": [
    "#線分abと線分cdの端点の座標を入力\n",
    "#(例)a=[x,y]\n",
    "def max_min_cross(p1, p2, p3, p4):\n",
    "    min_ab, max_ab = min(p1, p2), max(p1, p2)\n",
    "    min_cd, max_cd = min(p3, p4), max(p3, p4)\n",
    "\n",
    "    if min_ab > max_cd or max_ab < min_cd:\n",
    "        return False\n",
    "    return True\n",
    "\n",
    "def cross_judge(a, b, c, d):\n",
    "    # x座標による判定\n",
    "    if not max_min_cross(a[0], b[0], c[0], d[0]):\n",
    "        return False\n",
    "    # y座標による判定\n",
    "    if not max_min_cross(a[1], b[1], c[1], d[1]):\n",
    "        return False\n",
    "\n",
    "    tc1 = (a[0] - b[0]) * (c[1] - a[1]) + (a[1] - b[1]) * (a[0] - c[0])\n",
    "    tc2 = (a[0] - b[0]) * (d[1] - a[1]) + (a[1] - b[1]) * (a[0] - d[0])\n",
    "    td1 = (c[0] - d[0]) * (a[1] - c[1]) + (c[1] - d[1]) * (c[0] - a[0])\n",
    "    td2 = (c[0] - d[0]) * (b[1] - c[1]) + (c[1] - d[1]) * (c[0] - b[0])\n",
    "    return tc1 * tc2 <= 0 and td1 * td2 <= 0"
   ]
  },
  {
   "cell_type": "markdown",
   "metadata": {},
   "source": [
    "**例題**\n",
    "- [ABC259D](https://atcoder.jp/contests/abc259/tasks/abc259_d)"
   ]
  },
  {
   "cell_type": "markdown",
   "metadata": {},
   "source": [
    "### 10. 順列、組み合わせ\n",
    "<a id=\"順列、組み合わせ\"></a>"
   ]
  },
  {
   "cell_type": "code",
   "execution_count": 2,
   "metadata": {},
   "outputs": [
    {
     "name": "stdout",
     "output_type": "stream",
     "text": [
      "<itertools.permutations object at 0x000002574D9094F0>\n",
      "[('a', 'b'), ('a', 'c'), ('a', 'd'), ('b', 'a'), ('b', 'c'), ('b', 'd'), ('c', 'a'), ('c', 'b'), ('c', 'd'), ('d', 'a'), ('d', 'b'), ('d', 'c')]\n",
      "\n",
      "<itertools.combinations object at 0x000002574D909540>\n",
      "[('a', 'b'), ('a', 'c'), ('a', 'd'), ('b', 'c'), ('b', 'd'), ('c', 'd')]\n"
     ]
    }
   ],
   "source": [
    "import itertools\n",
    "\n",
    "l = ['a', 'b', 'c', 'd']\n",
    "\n",
    "p = itertools.permutations(l, 2)\n",
    "print(p)\n",
    "p = list(p)\n",
    "print(p)\n",
    "\n",
    "print()\n",
    "\n",
    "c = itertools.combinations(l, 2)\n",
    "print(c)\n",
    "c = list(c)\n",
    "print(c)"
   ]
  },
  {
   "cell_type": "markdown",
   "metadata": {},
   "source": [
    "### 11. 確率mod\n",
    "<a id=\"確率mod\"></a>"
   ]
  },
  {
   "cell_type": "markdown",
   "metadata": {},
   "source": [
    "- 割り算上での mod 計算は[こちら](#余りの計算(割り算))も参照"
   ]
  },
  {
   "cell_type": "markdown",
   "metadata": {},
   "source": [
    "- 例えば，「$\\frac{1}{6}$ の確率であたりを引くことができるくじがあり，2回連続あたりを引く確率を mod 998244353 で求めてください。」とあれば以下のように算出する"
   ]
  },
  {
   "cell_type": "code",
   "execution_count": 4,
   "metadata": {},
   "outputs": [
    {
     "name": "stdout",
     "output_type": "stream",
     "text": [
      "859599304\n"
     ]
    }
   ],
   "source": [
    "mod = 998244353\n",
    "pmod = pow(6, mod-2, mod)\n",
    "\n",
    "ans = (pmod % mod) * (pmod %mod)\n",
    "ans %= mod\n",
    "print(ans)"
   ]
  },
  {
   "cell_type": "markdown",
   "metadata": {},
   "source": [
    "**例題**\n",
    "1. **[ABC275E](https://atcoder.jp/contests/abc275/tasks/abc275_e)**\n",
    "    - [解説](https://atcoder.jp/contests/abc275/editorial/5116)\n",
    "    - [コード](https://atcoder.jp/contests/abc275/submissions/40713870)\n",
    "    \n",
    "    \n",
    "2. **[ABC298E](https://atcoder.jp/contests/abc298/tasks/abc298_e)**\n",
    "    - [解説](https://atcoder.jp/contests/abc298/editorial/6216)\n",
    "    - [コード](https://atcoder.jp/contests/abc298/submissions/40713399)"
   ]
  },
  {
   "cell_type": "markdown",
   "metadata": {},
   "source": [
    "### 12. 期待値問題\n",
    "<a id=\"期待値問題\"></a>"
   ]
  },
  {
   "cell_type": "markdown",
   "metadata": {},
   "source": [
    "- 確率 $ p $ で成功する試行において、成功するまでの試行を行うときの試行回数の期待値は $\\frac{1}{p}$ である\n",
    "    - **例題**\n",
    "        - DPで解くパターン：[ABC280E](https://atcoder.jp/contests/abc280/tasks/abc280_e)\n",
    "            - [コード](https://atcoder.jp/contests/abc280/submissions/40716154)\n",
    "        - 再帰（メモ化）で解くパターン：[ABC184D](https://atcoder.jp/contests/abc184/tasks/abc184_d)\n",
    "            - [コード](https://atcoder.jp/contests/abc184/submissions/40715471)"
   ]
  },
  {
   "cell_type": "markdown",
   "metadata": {},
   "source": [
    "- 期待値の最大値を求める問題\n",
    "    - **例題**\n",
    "        - [ABC266E](https://atcoder.jp/contests/abc266/tasks/abc266_e)"
   ]
  },
  {
   "cell_type": "markdown",
   "metadata": {},
   "source": [
    "### 13. 合成関数問題\n",
    "<a id=\"合成関数問題\"></a>"
   ]
  },
  {
   "cell_type": "markdown",
   "metadata": {},
   "source": [
    "**例題**\n",
    "- [ABC261E](https://atcoder.jp/contests/abc261/tasks/abc261_e)\n",
    "    - [解説](https://atcoder.jp/contests/abc261/editorial/4451)\n",
    "    - [コード](https://atcoder.jp/contests/abc261/submissions/40756276)"
   ]
  },
  {
   "cell_type": "markdown",
   "metadata": {},
   "source": [
    "### 14.  行列累乗\n",
    "<a id=\"行列累乗\"></a>"
   ]
  },
  {
   "cell_type": "code",
   "execution_count": null,
   "metadata": {},
   "outputs": [],
   "source": [
    "# 行列演算 A*B\n",
    "def mul(A, B, mod=None):\n",
    "    N = len(A)\n",
    "    C = [[0] * N for _ in range(N)]\n",
    "    for i in range(N):\n",
    "        for j in range(N):\n",
    "            for k in range(N):\n",
    "                C[i][j] += A[i][k] * B[k][j]\n",
    "                if mod is not None:\n",
    "                    C[i][j] %= mod\n",
    "    return C\n",
    "\n",
    "# M^K を求める\n",
    "def calc(M, K, mod=None):\n",
    "    # 単位行列\n",
    "    N = len(M)\n",
    "    R = [[1 if j == i else 0 for j in range(N)] for i in range(N)]\n",
    "    while K > 0:\n",
    "        if K % 2 == 1:\n",
    "            R = mul(R, M, mod)\n",
    "        M = mul(M, M, mod)\n",
    "        K //= 2\n",
    "    return R"
   ]
  },
  {
   "cell_type": "markdown",
   "metadata": {},
   "source": [
    "**例題**\n",
    "- [R - Walk](https://atcoder.jp/contests/dp/tasks/dp_r)"
   ]
  },
  {
   "cell_type": "markdown",
   "metadata": {},
   "source": [
    "### 15.  \n",
    "<a id=\"\"></a>"
   ]
  },
  {
   "cell_type": "markdown",
   "metadata": {},
   "source": [
    "**例題**\n",
    "- []()"
   ]
  },
  {
   "cell_type": "markdown",
   "metadata": {},
   "source": [
    "---"
   ]
  },
  {
   "cell_type": "markdown",
   "metadata": {},
   "source": [
    "## アルゴリズム\n",
    "<a id=\"アルゴリズム\"></a>\n",
    "1. [bit全探索](#bit全探索)\n",
    "2. [半分全列挙](#半分全列挙)\n",
    "3. [二分探索](#二分探索)\n",
    "4. [累積和](#累積和)\n",
    "5. [動的計画法](#動的計画法)\n",
    "6. [文字列ハッシュ](#文字列ハッシュ)\n",
    "7. [ダブリング](#ダブリング)\n",
    "8. [セグメント木](#セグメント木)\n",
    "9. [遅延評価セグメント木](#遅延評価セグメント木)\n",
    "10. [深さ優先探索](#深さ優先探索)\n",
    "11. [幅優先探索](#幅優先探索)\n",
    "12. [ダイクストラ法](#ダイクストラ法)\n",
    "13. [Union-Find](#Union-Find)\n",
    "14. [最小全域木](#最小全域木)\n",
    "15. [最大フロー（最小カット）](#最大フロー（最小カット）)\n",
    "16. [二部マッチング](#二部マッチング)\n",
    "17. [強連結成分分解](#強連結成分分解)\n",
    "18. [橋検出](#橋検出)\n",
    "19. [メモ化再帰](#メモ化再帰)\n",
    "20. [辞書順最小部分列](#辞書順最小部分列)\n",
    "21. [座標圧縮](#座標圧縮)\n",
    "22. [不変量に着目する](#不変量に着目する)\n",
    "23. [転倒数](#転倒数)\n",
    "24. [トポロジカルソート](#トポロジカルソート)\n",
    "25. [順序付き集合](#順序付き集合)\n",
    "26. [ワーシャルフロイド法](#ワーシャルフロイド法)\n",
    "27. [尺取り法](#尺取り法)\n",
    "28. [最小共通祖先(Lowest Common Ancestor)](#最小共通祖先)\n",
    "29. [最小費用流問題](#最小費用流問題)"
   ]
  },
  {
   "cell_type": "markdown",
   "metadata": {},
   "source": [
    "---"
   ]
  },
  {
   "cell_type": "markdown",
   "metadata": {},
   "source": [
    "### 1. bit全探索\n",
    "<a id = \"bit全探索\"></a>"
   ]
  },
  {
   "cell_type": "code",
   "execution_count": null,
   "metadata": {},
   "outputs": [],
   "source": [
    "for i in range(2**N):\n",
    "    for j in range(N):\n",
    "        if (i >> j) & 1 == 1:\n",
    "            # 1のときの処理内容\n",
    "        else:\n",
    "            # 0のときの処理内容"
   ]
  },
  {
   "cell_type": "markdown",
   "metadata": {},
   "source": [
    "**例題**\n",
    "- [ABC147C](https://atcoder.jp/contests/abc147/tasks/abc147_c)"
   ]
  },
  {
   "cell_type": "code",
   "execution_count": null,
   "metadata": {},
   "outputs": [],
   "source": [
    "N = int(input())\n",
    "XY = []\n",
    "for n in range(N):\n",
    "    a = int(input())\n",
    "    xy = [list(map(int, input().split())) for _ in range(a)]\n",
    "    XY.append(xy)\n",
    "\n",
    "ans = 0\n",
    "for i in range(2**N):\n",
    "    cnt = 0\n",
    "    for j in range(N):\n",
    "        if (i >> j) & 1 == 1:\n",
    "            cnt += 1\n",
    "            for x, y in XY[j]:\n",
    "                if i >> (x-1) & 1 != y:\n",
    "                    break\n",
    "            else:\n",
    "                continue\n",
    "            break\n",
    "    else:\n",
    "        ans = max(ans, cnt)\n",
    "print(ans)"
   ]
  },
  {
   "cell_type": "markdown",
   "metadata": {},
   "source": [
    "---"
   ]
  },
  {
   "cell_type": "markdown",
   "metadata": {},
   "source": [
    "### 2. 半分全列挙\n",
    "<a id = \"半分全列挙\"></a>\n"
   ]
  },
  {
   "cell_type": "markdown",
   "metadata": {},
   "source": [
    "**例題**\n",
    "- [A14 - Four Boxes](https://atcoder.jp/contests/tessoku-book/tasks/tessoku_book_n)"
   ]
  },
  {
   "cell_type": "markdown",
   "metadata": {},
   "source": [
    "---"
   ]
  },
  {
   "cell_type": "markdown",
   "metadata": {},
   "source": [
    "### 3. 二分探索\n",
    "<a id = \"二分探索\"></a>\n",
    "- [bisectライブラリ](#bisectライブラリ)\n",
    "- [答えで二分探索](#答えで二分探索)\n",
    "- [しゃくとり法](#しゃくとり法)"
   ]
  },
  {
   "cell_type": "markdown",
   "metadata": {},
   "source": [
    "#### [bisectライブラリ](https://qiita.com/T_Wakasugi/items/c979e977f56531942de4)\n",
    "<a id=\"bisectライブラリ\"></a>"
   ]
  },
  {
   "cell_type": "code",
   "execution_count": 13,
   "metadata": {},
   "outputs": [
    {
     "name": "stdout",
     "output_type": "stream",
     "text": [
      "len(a) = 10, a = [10, 20, 30, 40, 50, 60, 70, 80, 90, 100]\n"
     ]
    }
   ],
   "source": [
    "import bisect\n",
    "a = [i for i in range(10,101,10)]\n",
    "print(f\"{len(a) = }, {a = }\")"
   ]
  },
  {
   "cell_type": "code",
   "execution_count": 14,
   "metadata": {},
   "outputs": [
    {
     "name": "stdout",
     "output_type": "stream",
     "text": [
      "5\n"
     ]
    }
   ],
   "source": [
    "print(bisect.bisect(a, 55))"
   ]
  },
  {
   "cell_type": "code",
   "execution_count": 15,
   "metadata": {},
   "outputs": [
    {
     "name": "stdout",
     "output_type": "stream",
     "text": [
      "5\n",
      "4\n",
      "5\n"
     ]
    }
   ],
   "source": [
    "print(bisect.bisect(a,50))\n",
    "print(bisect.bisect_left(a,50))\n",
    "print(bisect.bisect_right(a,50))"
   ]
  },
  {
   "cell_type": "code",
   "execution_count": 16,
   "metadata": {},
   "outputs": [
    {
     "name": "stdout",
     "output_type": "stream",
     "text": [
      "10\n"
     ]
    }
   ],
   "source": [
    "print(bisect.bisect_right(a,101))"
   ]
  },
  {
   "cell_type": "markdown",
   "metadata": {},
   "source": [
    "#### 答えで二分探索\n",
    "<a id=\"答えで二分探索\"></a>"
   ]
  },
  {
   "cell_type": "code",
   "execution_count": null,
   "metadata": {},
   "outputs": [],
   "source": [
    "def check(x):\n",
    "    # 答えがこのような並びで境界があるとする。　[True, True, True, True, True, False, False, False]\n",
    "    return True\n",
    "    return False\n",
    "\n",
    "# 答えを小数で求める場合\n",
    "def bin_search()\n",
    "    X_ok = 0\n",
    "    X_ng = 10 ** 10\n",
    "    for _ in range(100): # or while X_ng - X_ok >= 0.001:\n",
    "        X = (X_ok + X_ng) / 2\n",
    "        if check(X):\n",
    "            X_ok = X\n",
    "        else:\n",
    "            X_ng = X\n",
    "    return X_ok\n",
    "\n",
    "# 答えを整数で求める場合\n",
    "def bin_search()\n",
    "    X_ok = 0\n",
    "    X_ng = 10 ** 10\n",
    "    while X_ng - X_ok > 1:\n",
    "        X = (X_ok + X_ng) // 2\n",
    "        if check(X):\n",
    "            X_ok = X\n",
    "        else:\n",
    "            X_ng = X\n",
    "    return X_ok"
   ]
  },
  {
   "cell_type": "code",
   "execution_count": null,
   "metadata": {},
   "outputs": [],
   "source": [
    "def judge(x):\n",
    "    return True\n",
    "    return False\n",
    "    \n",
    "def bin_search(left, right):\n",
    "    while right - left > 1:\n",
    "        mid = (left + right) // 2\n",
    "        if judge(mid): # func() 判定用関数\n",
    "            left = mid\n",
    "        else:\n",
    "            right = mid\n",
    "    return left\n",
    "####################################################################################################\n",
    "def f(x):\n",
    "    return x\n",
    "\n",
    "def bin_search(l,r):\n",
    "    while r-l >= 0.001:\n",
    "        mid = (l + r) / 2\n",
    "        if f(mid) < N:\n",
    "            l = mid\n",
    "        elif f(mid) > N:\n",
    "            r = mid\n",
    "        else:\n",
    "            return mid\n",
    "    return l"
   ]
  },
  {
   "cell_type": "markdown",
   "metadata": {},
   "source": [
    "**例題**\n",
    "- [001 - Yokan Party（★4）](https://atcoder.jp/contests/typical90/tasks/typical90_a)\n",
    "- [B12 - Equation](https://atcoder.jp/contests/tessoku-book/tasks/tessoku_book_ck)"
   ]
  },
  {
   "cell_type": "markdown",
   "metadata": {},
   "source": [
    "#### しゃくとり法\n",
    "<a id=\"しゃくとり法\"></a>\n",
    "- 左端を $1,2,\\dots ,N$ の順に動かす\n",
    "- 右端は、条件を満たすぎりぎりまで、「1増やす」という操作を行うことで動かす\n",
    "- 右端を1増やす操作は、合計 $N-1$ しか行われないので、計算量は $O(N)$ "
   ]
  },
  {
   "cell_type": "markdown",
   "metadata": {},
   "source": [
    "**例題**\n",
    "- [034 - There are few types of elements（★4）](https://atcoder.jp/contests/typical90/tasks/typical90_ah)\n",
    "- [A13 - Close Pairs](https://atcoder.jp/contests/tessoku-book/tasks/tessoku_book_m)\n",
    "- [B13 - Supermarket 2](https://atcoder.jp/contests/tessoku-book/tasks/tessoku_book_cl)"
   ]
  },
  {
   "cell_type": "markdown",
   "metadata": {},
   "source": [
    "---"
   ]
  },
  {
   "cell_type": "markdown",
   "metadata": {},
   "source": [
    "### 4. 累積和\n",
    "<a id=\"累積和\"></a>\n",
    "- [1次元](1次元)  \n",
    "いもす法\n",
    "- [2次元](2次元)"
   ]
  },
  {
   "cell_type": "markdown",
   "metadata": {},
   "source": [
    "#### 1次元\n",
    "<a id=\"1次元\"></a>"
   ]
  },
  {
   "cell_type": "markdown",
   "metadata": {},
   "source": [
    "- いもす法  \n",
    "差分（前日比など）を計算した後に累積和をとるtechnic"
   ]
  },
  {
   "cell_type": "markdown",
   "metadata": {},
   "source": [
    "**例題**\n",
    "- [A07 - Event Attendance](https://atcoder.jp/contests/tessoku-book/tasks/tessoku_book_g)\n",
    "- [B07 - Convenience Store 2 ](https://atcoder.jp/contests/tessoku-book/tasks/math_and_algorithm_al)"
   ]
  },
  {
   "cell_type": "markdown",
   "metadata": {},
   "source": [
    "#### 2次元\n",
    "<a id=\"1￥2次元\"></a>"
   ]
  },
  {
   "cell_type": "markdown",
   "metadata": {},
   "source": [
    "**例題**\n",
    "- [B08 - Counting Points](https://atcoder.jp/contests/tessoku-book/tasks/tessoku_book_cg)"
   ]
  },
  {
   "cell_type": "code",
   "execution_count": null,
   "metadata": {},
   "outputs": [],
   "source": [
    "N = int(input())\n",
    "XY = [map(int, input().split()) for _ in range(N)]\n",
    "Q = int(input())\n",
    "ABCD = [map(int, input().split()) for _ in range(Q)]\n",
    "\n",
    "HW = 1500\n",
    "Points = [[0]*HW for _ in range(HW)]\n",
    "for x, y in XY:\n",
    "  Points[y-1][x-1] += 1\n",
    "\n",
    "# 累積和\n",
    "S = [[0]*(HW+1)]\n",
    "# 横方向の累積和を計算\n",
    "for P in Points:\n",
    "  tmp = [0]\n",
    "  for p in P:\n",
    "    tmp.append(tmp[-1]+p)\n",
    "  S.append(tmp)\n",
    "# 縦方向の累積和を計算\n",
    "for i in range(1, HW+1):\n",
    "  for j in range(1, HW+1):\n",
    "    S[j][i] += S[j-1][i]\n",
    "# 結果を出力　範囲内の答え=右下-左下-右上+左上\n",
    "for a, b, c, d in ABCD:\n",
    "  ans = S[d][c] - S[b-1][c] - S[d][a-1] + S[b-1][a-1]\n",
    "  print(ans)"
   ]
  },
  {
   "cell_type": "markdown",
   "metadata": {},
   "source": [
    "**例題**\n",
    "- [A08 - Two Dimensional Sum](https://atcoder.jp/contests/tessoku-book/tasks/tessoku_book_h)"
   ]
  },
  {
   "cell_type": "markdown",
   "metadata": {},
   "source": [
    "2次元いもす法  \n",
    "**例題**\n",
    "- [A09 - Winter in ALGO Kingdom](https://atcoder.jp/contests/tessoku-book/tasks/tessoku_book_i)\n",
    "- [B09 - Papers](https://atcoder.jp/contests/tessoku-book/tasks/tessoku_book_ch)\n",
    "- [028 - Cluttered Paper（★4）](https://atcoder.jp/contests/typical90/tasks/typical90_ab)"
   ]
  },
  {
   "cell_type": "markdown",
   "metadata": {},
   "source": [
    "---"
   ]
  },
  {
   "cell_type": "markdown",
   "metadata": {},
   "source": [
    "###  5. 動的計画法\n",
    "<a id=\"動的計画法\"></a>\n",
    "- [部分和問題](#部分和問題)\n",
    "- [ナップザック問題](#ナップザック問題)\n",
    "- [最長共通部分列問題](#最長共通部分列問題)\n",
    "- [編集距離](#編集距離)\n",
    "- [区間DP](#区間DP)\n",
    "- [集合を状態とするDP](#集合を状態とするDP)\n",
    "- [巡回セールスマン問題](#巡回セールスマン問題)\n",
    "- [遷移式の工夫](#遷移式の工夫)\n",
    "- [ビットDP](#ビットDP)\n",
    "- [最長増加部分列問題](#最長増加部分列問題)\n",
    "- [木DP](#木DP)\n",
    "- [K以下の整数を走査するDP](#K以下の整数を走査するDP)\n",
    "- [Dの倍数を扱うDP](#Dの倍数を扱うDP)\n",
    "- [円環上のDP](#円環上のDP)"
   ]
  },
  {
   "cell_type": "markdown",
   "metadata": {},
   "source": [
    "#### 部分和問題\n",
    "<a id=\"部分和問題\"></a>\n",
    "- [A18 - Subset Sum](https://atcoder.jp/contests/tessoku-book/tasks/tessoku_book_r)\n",
    "    - [コード](https://atcoder.jp/contests/tessoku-book/submissions/37577520)\n",
    "    - ```DP[i][j]```：カード $1, 2, \\dots, i$ の中から何枚かを選び、選んだカードに書かれた整数の合計を $j$ にすることは可能か"
   ]
  },
  {
   "cell_type": "markdown",
   "metadata": {},
   "source": [
    "#### ナップサック問題\n",
    "<a id=\"ナップザック問題\"></a>\n",
    "- [D - Knapsack 1](https://atcoder.jp/contests/dp/tasks/dp_d)\n",
    "    - [コード](https://atcoder.jp/contests/dp/submissions/40820662)\n",
    "    - ```DP[i][j]```：$N$ 個の品物のうち番号が小さい $i$ 個（品物 $0,1,\\dots,i-1$）のみを考えて、これら $i$ 個の品物の中から、重さの総和が $j$ となるようにいくつか選んだ時の、選んだ品物の価値の総和の最大値\n",
    "- [E - Knapsack 2](https://atcoder.jp/contests/dp/tasks/dp_e)\n",
    "    - [コード](https://atcoder.jp/contests/dp/submissions/36157460)\n",
    "    - ```DP[i][j]```：$N$ 個の品物のうち番号が小さい $i$ 個（品物 $0,1,\\dots,i-1$）のみを考えて、これら $i$ 個の品物の中から、価値の総和が $j$ となるようにいくつか選んだ時の、選んだ品物の重さの最小値\n",
    "    - ```DP[N][j]```を $j$ が大きいところから見て、初めて $W$ 以下の重さになった時の $j$ が答え\n",
    "    \n",
    "    \n",
    "- ナップサック問題では、$N$ 個の品物それぞれについて、「入れる」「入れない」と2通り、全体として$2^N$ 通りの選び方がある。\n",
    "- **$2^N$ 通りの選び方が考えられる問題では、「最初の $i$ 個の品物についての問題」を部分問題として切り出す。**"
   ]
  },
  {
   "cell_type": "markdown",
   "metadata": {},
   "source": [
    "#### 最長共通部分列問題\n",
    "<a id=\"最長共通部分列問題\"></a>\n",
    "- S の部分列かつ T の部分列（共通部分列）である文字列のうち、最長ものは何文字か？を答える問題\n",
    "- [A20 - LCS](https://atcoder.jp/contests/tessoku-book/tasks/tessoku_book_t)\n",
    "    - [コード](https://atcoder.jp/contests/tessoku-book/tasks/tessoku_book_t)\n",
    "    - ```DP[i][j]```：$S$ の最初の $i$ 文字と $T$ の最初の $j$ 文字の際s長共通部分列の長さ\n",
    "        > $S$ の最初の $i$ 文字と $T$ の最初の $j$ 文字が一致する場合\n",
    "        > - ```DP[i][j] = max(DP[i-1][j], DP[i][j-1], DP[i-1][j-1]+1)```\n",
    "        >\n",
    "        > $S$ の最初の $i$ 文字と $T$ の最初の $j$ 文字が一致しない場合\n",
    "        > - ```DP[i][j] = max(DP[i-1][j], DP[i][j-1])```"
   ]
  },
  {
   "cell_type": "markdown",
   "metadata": {},
   "source": [
    "#### 編集距離\n",
    "<a id=\"編集距離\"></a>\n",
    "- 文字列 $S$ に対して、以下の3種類の操作を行うことができる。最小何回の操作で、文字列 $S$ を文字列 $T$ に一致させることができるか？\n",
    "    - $S$ 中の文字を1つ選び、別の文字に変更する\n",
    "    - $S$ 中の文字を1つ選び、削除する\n",
    "    - $S$ 中の適当な位置に、文字を1つ挿入する\n",
    "- [B - 編集距離](https://atcoder.jp/contests/pastbook2022/tasks/pastbook2022_b)\n",
    "    - [コード](https://atcoder.jp/contests/pastbook2022/submissions/40920423)\n",
    "    - ```DP[i][j]```：文字列 $S$ の最初の $i$ 文字分と、文字列 $T$ の最初の $j$ も自分との間の編集距離\n",
    "        > $S[0:i]$ の末尾の文字 $S[i-1]$ に**変更**することで、その文字が $T[j-1]$ と一致するようにした場合\n",
    "        > - ```DP[i][j] = min(DP[i][j], DP[i-1][j-1] + (S[i-1] == T[j-1]))```\n",
    "        >\n",
    "        > $S[0:i]$ の末尾の文字 $S[i-1]$ を**削除**する場合\n",
    "        > - ```DP[i][j] = min(DP[i][j], DP[i-1][j] + 1)```\n",
    "        >\n",
    "        > $S[0:i]$ の末尾に、$T[0:j]$ の末尾の文字 $T[j-1]$ を**挿入**する場合\n",
    "        > - ```DP[i][j] = min(DP[i][j], DP[i][j-1] + 1)```"
   ]
  },
  {
   "cell_type": "markdown",
   "metadata": {},
   "source": [
    "#### 区間DP\n",
    "<a id=\"区間DP\"></a>\n",
    "- ```DP[i]```：区間 $[0, i)$ についての何らかの値\n",
    "- ```DP[i][j]```：区間 $[i, j)$ についての何らかの値\n",
    "\n",
    "    **例題**\n",
    "    - [N - Slimes](https://atcoder.jp/contests/dp/tasks/dp_n)\n",
    "    - [I - イウィ](https://atcoder.jp/contests/tdpc/tasks/tdpc_iwi)\n",
    "    - [A21 - Block Game](https://atcoder.jp/contests/tessoku-book/tasks/tessoku_book_u)\n",
    "    - [B21 - Longest Subpalindrome](https://atcoder.jp/contests/tessoku-book/tasks/tessoku_book_ct) 最長何文字の回文を作ることができるか"
   ]
  },
  {
   "cell_type": "markdown",
   "metadata": {},
   "source": [
    "#### 集合を状態とするDP\n",
    "<a id=\"集合を状態とするDP\"></a>"
   ]
  },
  {
   "cell_type": "markdown",
   "metadata": {},
   "source": [
    "\n",
    "- $N$ 個の要素からなる集合 $\\{0,1,\\dots,N-1\\}$ の部分集合は $2^N$ 個あります。それらの部分集合を頂点とするグラフを考えます。部分集合 $S, T$ に対して、$S \\subset T$ かつ $|T|-|S|=1$ が成立するとき、集合 $S$ に対応する頂点から集合 $T$ に対応する頂点へと有向辺を張ります。\n",
    "- 集合を状態とするDPでは、上記のグラフの拡張店に対応する部分問題へと分解し、辺の向きに沿って部分問題の解を順に求めていきます。\n",
    "- 全探索した場合に $N!$ 通りの選択肢が考えられるような問題（$N$ 個のものの並び替えを探索したい場面）において、有効なアルゴリズムです。 \n",
    "\n",
    "    **例題**\n",
    "    - [O - Matching](https://atcoder.jp/contests/dp/tasks/dp_o)\n",
    "    - [D - ぬいぐるみの整理 (Plush Toys) ](https://atcoder.jp/contests/joi2017yo/tasks/joi2017yo_d)"
   ]
  },
  {
   "cell_type": "markdown",
   "metadata": {},
   "source": [
    "- いくつかの要素をグループに分割する方法を考える問題では、「集合を状態に持つ動的計画法」が有効であり、集合 $S$ の各部分集合 $T(\\subset S)$ に対して、```DP[T]```の値を用いて```DP[S]```を表すとよい\n",
    "- 集合 $X$ の部分集合 $Y$ を列挙する方法\n",
    "    - 集合 $X$ を表す整数値を $S$ 、集合 $Y$ を表す整数値を $T$ とする\n",
    "    - ```python\n",
    "    T = S\n",
    "    while T >= 0:\n",
    "        T &= S\n",
    "        # 整数値Tで表される集合について処理を実施する\n",
    "        T -= 1\n",
    "    ```"
   ]
  },
  {
   "cell_type": "markdown",
   "metadata": {},
   "source": [
    "#### 巡回セールスマン問題\n",
    "<a id=\"巡回セールスマン問題\"></a>\n",
    "- [C - 巡回セールスマン問題](https://atcoder.jp/contests/typical-algorithm/tasks/typical_algorithm_c)\n",
    "    - [コード](https://atcoder.jp/contests/typical-algorithm/submissions/40932812)\n",
    "    - ```DP[s][i]```：すでに訪問した都市の集合を表す整数値が $s$ であり、最後に訪れたと番号が $i$ であるような状態に至るのに必要な最小コスト\n",
    "    - ```DP[s][i] = min(DP[s][i], DP[s & ~(1<<i)][j] + A[i][j])```\n",
    "        - ```DP[s & ~(1<<i)][j]```：整数値 $s$ で表される都市集合から都市 $i$ を除いてできる集合に対して、最後に都市 $j$ を訪れるまでに必要な最小コスト\n",
    "        - ```A[i][j]```：都市 $i$ から都市 $j$ へと至るためのコスト"
   ]
  },
  {
   "cell_type": "code",
   "execution_count": null,
   "metadata": {},
   "outputs": [],
   "source": [
    "# 入力\n",
    "N = int(input())\n",
    "A = [list(map(int, input().split())) for i in range(N)]\n",
    "# 配列 dp を定義する\n",
    "INF = 2 ** 60  # 十分大きい値\n",
    "dp = [[INF] * N for i in range(1 << N)]\n",
    "# 初期条件\n",
    "dp[1][0] = 0\n",
    "# dp[S][i] の値を順に求めていく\n",
    "for S in range(1 << N):\n",
    "    for i in range(N):\n",
    "        # 都市 i が S に含まれない場合はスキップ\n",
    "        if S & (1 << i) == 0:\n",
    "            continue\n",
    "        # 都市 j で場合分け\n",
    "        for j in range(N):\n",
    "            if j == i or S & (1 << j) == 0:\n",
    "                continue\n",
    "            # 更新式\n",
    "            dp[S][i] = min(dp[S][i], dp[S & ~(1 << i)][j] + A[j][i])\n",
    "# 答え（最後に都市 0 に戻るケースをすべて探索する）\n",
    "ans = INF\n",
    "for i in range(1, N):\n",
    "    ans = min(ans, dp[(1 << N) - 1][i] + A[i][0])\n",
    "print(ans)"
   ]
  },
  {
   "cell_type": "markdown",
   "metadata": {},
   "source": [
    "#### 遷移式の工夫\n",
    "<a id=\"遷移式の工夫\"></a>\n",
    "- 貰う遷移形式；最後の行動で場合分けする\n",
    "- 配る遷移形式：「最後の行動」ではなく「一手先の行動」を考え、配列の値を徐々に更新していく\n",
    "\n",
    "    **例題**\n",
    "    - [A16 - Dungeon 1](https://atcoder.jp/contests/tessoku-book/tasks/tessoku_book_p)\n",
    "    - [A22 - Sugoroku](https://atcoder.jp/contests/tessoku-book/tasks/tessoku_book_v)"
   ]
  },
  {
   "cell_type": "markdown",
   "metadata": {},
   "source": [
    "#### ビットDP\n",
    "<a id=\"ビットDP\"></a>\n",
    "- $2^N$ 通りの場合を全探索するような場合に有効（例えば $N=100$ のケースでは、$2^N \\approx 10^{30}$）"
   ]
  },
  {
   "cell_type": "markdown",
   "metadata": {},
   "source": [
    "- **例題**\n",
    "    - [A23 - All Free](https://atcoder.jp/contests/tessoku-book/tasks/tessoku_book_w)\n",
    "    - $N$ 種類の品物と $M$ 枚のクーポンがあります。最小何枚のクーポン券で、$N$ 種類すべての品物を無料で買うことができるか\n",
    "    - ```DP[i][s]```：クーポン券 $1,2,\\dots,i$ 枚から何枚かを選び、無料で買える品物の集合が $s$ である状態の時の、選んだクーポン券の枚数として考えられる最小値\n",
    "        > クーポン券 $i$ を使わない場合\n",
    "        > - ```DP[i][s] = min(DP[i][s], DP[i-1][s])```\n",
    "        >\n",
    "        > クーポン券 $i$ を使う場合\n",
    "        > - ```DP[i][s | t_i] = min(DP[i][s | t_i], DP[i-1][s]+1)```"
   ]
  },
  {
   "cell_type": "markdown",
   "metadata": {},
   "source": [
    "#### 最長増加部分列問題\n",
    "<a id=\"最長増加部分列問題\"></a>\n",
    "- [A24 - LIS](https://atcoder.jp/contests/tessoku-book/tasks/tessoku_book_x)\n",
    "    - [コード](https://atcoder.jp/contests/tessoku-book/submissions/37723534)\n",
    "- 配列 $A=[A_1, A_2, \\dots, A_N]$ の増加部分列とは、以下の条件をともに満たす配列 $B=[B_{p_1}, B_{p_2}, \\dots, B_{p_k}]$ のことである\n",
    "    - $p_1 < p_2 < \\dots < p_k$\n",
    "    - $B_{p_1} < B_{p_2} < \\dots < B_{p_k}$"
   ]
  },
  {
   "cell_type": "markdown",
   "metadata": {},
   "source": [
    "#### 木DP\n",
    "<a id=\"木DP\"></a>\n",
    "- 木に関する問題では，根を1つ指定して根付き木にすることで，見通しよく解けることが多い．その際，各頂点を根とする部分木に関する問題に分解して，動的計画法を適用するとうまく解けることが多い．"
   ]
  },
  {
   "cell_type": "code",
   "execution_count": null,
   "metadata": {},
   "outputs": [],
   "source": [
    "# 再帰回数の上限を変更\n",
    "sys.setrecursionlimit(10**8)\n",
    "\n",
    "# v: 現在探索中の頂点\n",
    "# p: vの親 (vが根の時、p=-1とする)\n",
    "def dfs(v, p):\n",
    "    # v に隣接した頂点を見ていく\n",
    "    for nex in G[v]:\n",
    "        # nexが親である場合は除く\n",
    "        if nex == p:\n",
    "            continue\n",
    "        # 子頂点 nex を再帰的に探索する\n",
    "        dfs(nex, v)\n",
    "        \n",
    "        \"\"\"ここでDPの値を更新する\"\"\"\n",
    "    \n",
    "# 根である頂点 0 (0-indexの場合)を呼び出す\n",
    "dfs(0, -1)"
   ]
  },
  {
   "cell_type": "markdown",
   "metadata": {},
   "source": [
    "- **例題**\n",
    "    - [C - 各部分木の大きさ](https://atcoder.jp/contests/pastbook2022/tasks/pastbook2022_c)\n",
    "    - [P - Independent Set](https://atcoder.jp/contests/dp/tasks/dp_p)"
   ]
  },
  {
   "cell_type": "markdown",
   "metadata": {},
   "source": [
    "#### K以下の整数を走査するDP\n",
    "<a id=\"K以下の整数を走査するDP\"></a>"
   ]
  },
  {
   "cell_type": "markdown",
   "metadata": {},
   "source": [
    "- ```DP[i][0]```\n",
    "    - $i$ 桁以内の整数であって、それが整数 $K$ の上から $i$桁分のみをとり出してできる整数と完全に一致する場合について考える\n",
    "    - その場合に条件と満たす整数の個数(0 or 1をとる)\n",
    "- ```DP[i][1]```\n",
    "    - $i$ 桁以内の整数であって、それが整数 $K$ の上から $i$桁分のみをとり出してできる整数より小さい場合について考える\n",
    "    - その場合に条件と満たす整数の個数\n",
    "- つまり $K=12435$ の時、```DP[3][0]```は124の場合について考えることになる。```DP[3][1]```は、124未満の整数について考える。"
   ]
  },
  {
   "cell_type": "markdown",
   "metadata": {},
   "source": [
    "考える遷移は以下の3種類となる。ここで $K$ の上から $i$ 桁目の数を $x$ とする\n",
    "- ```DP[i][0]```から```DP[i+1][0]```\n",
    "    - $i$ 桁の整数の末尾に $x$ を付け足す場合\n",
    "- ```DP[i][0]```から```DP[i+1][1]```\n",
    "    - $i$ 桁の整数の末尾に $x$ 未満の整数を付け足す場合\n",
    "- ```DP[i][1]```から```DP[i+1][1]```\n",
    "    - - $i$ 桁以下の整数の末尾に0以上9以下の整数を付け足す場合"
   ]
  },
  {
   "cell_type": "markdown",
   "metadata": {},
   "source": [
    "- **例題**\n",
    "    - [S - Digit Sum](https://atcoder.jp/contests/dp/tasks/dp_shttps://atcoder.jp/contests/dp/tasks/dp_s)"
   ]
  },
  {
   "cell_type": "markdown",
   "metadata": {},
   "source": [
    "##### Dの倍数を扱うDP\n",
    "- $D$ の倍数や $D$ で割った余りなどを考えるDPでは、「$D$ で割った余りを状態に持つ」野が定石である\n",
    "\n",
    "- 遷移の例\n",
    "    - ```DP[(r+x) % D] += DP[r]```"
   ]
  },
  {
   "cell_type": "markdown",
   "metadata": {},
   "source": [
    "##### 円環上のDP\n",
    "- 円環上で問題を解く際は，特別な意味のあるものを先頭に固定するのが定石である．\n",
    "\n",
    "\n",
    "- **例題**\n",
    "    - [ABC307E](https://atcoder.jp/contests/abc307/tasks/abc307_e)\n",
    "    - [ABC285E](https://atcoder.jp/contests/abc285/tasks/abc285_e)"
   ]
  },
  {
   "cell_type": "markdown",
   "metadata": {},
   "source": [
    "---"
   ]
  },
  {
   "cell_type": "markdown",
   "metadata": {},
   "source": [
    "### 6. 文字列ハッシュ\n",
    "<a id=\"文字列ハッシュ\"></a>"
   ]
  },
  {
   "cell_type": "markdown",
   "metadata": {},
   "source": [
    "**例題**\n",
    "- [A56 - String Hash](https://atcoder.jp/contests/tessoku-book/tasks/tessoku_book_bd)\n",
    "\n",
    "$Q$ 個のクエリに対して、$S[a_i,b_i]$ と $S[c_i,d_i]$ が一致するか判定せよ"
   ]
  },
  {
   "cell_type": "code",
   "execution_count": null,
   "metadata": {},
   "outputs": [],
   "source": [
    "# 入力\n",
    "N, Q = map(int, input().split())\n",
    "S = input()\n",
    "queries = [ list(map(int, input().split())) for i in range(Q) ]\n",
    "\n",
    "# 文字を数値に変換（ここでは書籍とは異なり、0-indexed で実装しています）\n",
    "# ord(c) で文字 c の文字コード（ASCII コード）を取得\n",
    "T = list(map(lambda c: ord(c) - ord('a') + 1, S))\n",
    "\n",
    "# 100 の n 乗を前計算\n",
    "MOD = 2147483647\n",
    "power100 = [ None ] * (N + 1)\n",
    "power100[0] = 1\n",
    "for i in range(N):\n",
    "    power100[i + 1] = power100[i] * 100 % MOD\n",
    "\n",
    "# H[1], H[2], ..., H[N] を計算する\n",
    "H = [ None ] * (N + 1)\n",
    "H[0] = 0\n",
    "for i in range(N):\n",
    "    H[i + 1] = (H[i] * 100 + T[i]) % MOD\n",
    "\n",
    "# ハッシュ値を求める関数\n",
    "# S[l-1:r] のハッシュ値は (H[r] - H[l - 1] * power100[r - l + 1]) % MOD で計算\n",
    "# C++ とは異なり、（負の値）% M (M >= 1) も 0 以上 M-1 以下になることに注意\n",
    "def hash_value(l, r):\n",
    "    return (H[r] - H[l - 1] * power100[r - l + 1]) % MOD\n",
    "\n",
    "# クエリに答える\n",
    "for a, b, c, d in queries:\n",
    "    hash1 = hash_value(a, b)\n",
    "    hash2 = hash_value(c, d)\n",
    "    if hash1 == hash2:\n",
    "        print(\"Yes\")\n",
    "    else:\n",
    "        print(\"No\")"
   ]
  },
  {
   "cell_type": "markdown",
   "metadata": {},
   "source": [
    "**例題**\n",
    "- [B56 - Palindrome Queries](https://atcoder.jp/contests/tessoku-book/tasks/tessoku_book_ec)\n",
    "\n",
    "$Q$ 個のクエリに対して $S[L_i, R_i]$ は回文か否かを判定せよ"
   ]
  },
  {
   "cell_type": "code",
   "execution_count": null,
   "metadata": {},
   "outputs": [],
   "source": [
    "mod = 2147483647\n",
    "\n",
    "# 文字列の l～r 番目を前から読んだ時のハッシュ値を返す関数\n",
    "def GetHashLeft(l: int, r: int) -> int:\n",
    "    val = H[r] - Power100[r - l + 1] * H[l - 1]\n",
    "    return val % mod\n",
    "\n",
    "# 文字列の l～r 番目を後ろから読んだ時のハッシュ値を返す関数\n",
    "def GetHashRight(l: int, r: int) -> int:\n",
    "    l, r = N + 1 - r, N + 1 - l\n",
    "    val = HRev[r] - Power100[r - l + 1] * HRev[l - 1]\n",
    "    return val % mod\n",
    "\n",
    "# 入力\n",
    "N, Q = map(int, input().split())\n",
    "S = input()\n",
    "Query = [tuple(map(int, input().split())) for _ in range(Q)]\n",
    "\n",
    "# S の各文字を数値に変換\n",
    "S = list(S)\n",
    "for i in range(N):\n",
    "    S[i] = ord(S[i]) - ord('a') + 1\n",
    "SRev = S[::-1]\n",
    "\n",
    "# 100 の n 乗を前計算\n",
    "Power100 = [1] * (N + 1)\n",
    "for i in range(N):\n",
    "    Power100[i + 1] = Power100[i] * 100 % mod\n",
    "\n",
    "# S のハッシュ値を前計算\n",
    "H = [1] * (N + 1)\n",
    "for i in range(N):\n",
    "    H[i + 1] = (H[i] * 100 + S[i]) % mod\n",
    "\n",
    "# SRev のハッシュ値を前計算\n",
    "HRev = [1] * (N + 1)\n",
    "for i in range(N):\n",
    "    HRev[i + 1] = (HRev[i] * 100 + SRev[i]) % mod\n",
    "\n",
    "# クエリの処理\n",
    "for L, R in Query:\n",
    "    v1 = GetHashLeft(L, R)\n",
    "    v2 = GetHashRight(L, R)\n",
    "    # 左から読んだ時・右から読んだ時のハッシュ値が一致していれば回文\n",
    "    if v1 == v2:\n",
    "        print(\"Yes\")\n",
    "    else:\n",
    "        print(\"No\")"
   ]
  },
  {
   "cell_type": "markdown",
   "metadata": {},
   "source": [
    "**例題**\n",
    "- [ABC287E](https://atcoder.jp/contests/abc287/tasks/abc287_e)\n",
    "    - [コード](https://atcoder.jp/contests/abc287/submissions/38417662)"
   ]
  },
  {
   "cell_type": "markdown",
   "metadata": {},
   "source": [
    "---"
   ]
  },
  {
   "cell_type": "markdown",
   "metadata": {},
   "source": [
    "### 7. ダブリング\n",
    "<a id=\"ダブリング\"></a>"
   ]
  },
  {
   "cell_type": "markdown",
   "metadata": {},
   "source": [
    "- $K$ 個先の要素を求めるのに $O(K)$ かかる状況において、$O(N\\log K)$ で前計算を行うことによって、各クエリを $O(\\log K)$ で解くことができる\n",
    "- 前計算で1個先、2個先、4個先、8個先…の状態を計算しておく"
   ]
  },
  {
   "cell_type": "code",
   "execution_count": null,
   "metadata": {},
   "outputs": [],
   "source": [
    "import math\n",
    "\n",
    "N, Q = map(int, input().split())\n",
    "A = list(map(int, input().split()))\n",
    "XY = [list(map(int, input().split())) for _ in range(Q)]\n",
    "\n",
    "M = 30\n",
    "\n",
    "A = list(map(lambda x:x-1, A))\n",
    "DP = [A.copy()]\n",
    "# 2^i個先を前計算しておく\n",
    "for i in range(M):\n",
    "    tmp = [None] * N\n",
    "    for j in range(N):\n",
    "        tmp[j] = DP[-1][DP[-1][j]]\n",
    "    DP.append(tmp)\n",
    "\n",
    "for x, y in XY:\n",
    "    x -= 1\n",
    "    # 2進数表現で、1がつく桁の先を計算していく\n",
    "    for i in range(int(math.log2(y))+1):\n",
    "        if (y >> i) & 1 == 1:\n",
    "            x = DP[i][x]\n",
    "    print(x+1)"
   ]
  },
  {
   "cell_type": "markdown",
   "metadata": {},
   "source": [
    "**例題**\n",
    "- [A57 - Doubling](https://atcoder.jp/contests/tessoku-book/tasks/tessoku_book_be)\n",
    "- [B57 - Calculator](https://atcoder.jp/contests/tessoku-book/tasks/tessoku_book_ed)\n",
    "- [ABC241E](https://atcoder.jp/contests/abc241/tasks/abc241_e)"
   ]
  },
  {
   "cell_type": "markdown",
   "metadata": {},
   "source": [
    "---"
   ]
  },
  {
   "cell_type": "markdown",
   "metadata": {},
   "source": [
    "### 8.  [セグメント木](https://qiita.com/takayg1/items/c811bd07c21923d7ec69)\n",
    "<a id=\"セグメント木\"></a>\n",
    "\n",
    "- クエリごとに、ある区間の値（最大値、最小値、合計値）を答えるためのアルゴリズム。\n",
    "- 具体的には、長さ $N$ の配列 $A = [A_1, A_2, \\dots A_N]$ があるとき、以下のクエリを処理する。\n",
    "    > クエリ1\n",
    "    > - $A_{pos}$ の値を $x$ に更新する\n",
    "    > \n",
    "    > クエリ2\n",
    "    > - $A_l, A_{l+1}, \\dots, A_{r-1}$ の（最大値、最小値、合計値）を答える"
   ]
  },
  {
   "cell_type": "markdown",
   "metadata": {},
   "source": [
    "- 区間に対する処理が、次の条件をすべて満たす $O(1)$ の演算である場合、セグメント木を使うことで $O(\\log N)$ で処理できる。次の説明で登場する $a \\cdot b$ は、変数 $a, b$ に対する二項演算を表している。\n",
    "     1. 結合法則 $(a\\cdot b) \\cdot c = a \\cdot (a \\cdot b)$ が成り立つ\n",
    "     2. 単位元 $e$ が存在する\n",
    "         - 「単位元」とは、$x \\cdot e = e \\cdot x = x$ を満たす要素 $e$ を指す。任意の要素 $x$ は、$e$ と二項演算をしても演算結果は変化せず $x$ のままである。\n",
    "- 例えば、区間の最小値を求める問題では、上記の2つの条件を以下のように満たす。\n",
    "    1. 結合法則：$\\min(\\min(a, b), c) = \\min(a, min(b, c))$\n",
    "    2. 単位元：正の無限大(inf)　$\\min(x, inf) = \\min(inf, x) = x$\n",
    "    \n",
    "    \n",
    "- この条件を満たす演算・その時の単位元 $e$・とり得る値の集合 $X$ の組のことを**モノイド**と呼ぶ。モノイドであればセグメント木によって、一点更新・区間取得を効率的に処理することができる。"
   ]
  },
  {
   "cell_type": "markdown",
   "metadata": {},
   "source": [
    "- データ構造の抽象化を行い、複数の演算処理に対応したセグメント木\n",
    "- インスタンス生成の際に、単位元と演算を指定する\n",
    "\n",
    "| 操作 | conbine_f | 単位元（identity_e） | 例題 |\n",
    "| :--- | :---: | :---: | :---: | \n",
    "| 最小値 | min | inf | [G - 一点更新・区間最小値](https://atcoder.jp/contests/pastbook2022/tasks/pastbook2022_g) |\n",
    "| 最大値 | max | -inf | [A58 - RMQ (Range Maximum Queries)](https://atcoder.jp/contests/tessoku-book/tasks/tessoku_book_bf) |\n",
    "| 区間和 | func | 0 | [A59 - RSQ (Range Sum Queries)](https://atcoder.jp/contests/tessoku-book/tasks/tessoku_book_bg) |\n",
    "| 区間積 | func | 1 | |\n",
    "| 最大公約数 | math.gcd | 0 | |\n",
    "| ビット単位xor | func | 0 | [ABC185F](https://atcoder.jp/contests/abc185/tasks/abc185_f) |\n",
    "\n",
    "ここで ```inf``` は```inf  = 10 ** 18``` のように設定しておく\n",
    "また、区間和や区間積、そのほかの任意の関数は、自作して、その関数名を conbine_f に指定する\n",
    "例えばビット単位xorでは、\n",
    "```python\n",
    "def func(x, y):\n",
    "    return x ^ y\n",
    "```\n",
    "のように記述する。"
   ]
  },
  {
   "cell_type": "code",
   "execution_count": 2,
   "metadata": {},
   "outputs": [],
   "source": [
    "# 0-indexed で実装\n",
    "class SegmentTree:\n",
    "    def __init__(\n",
    "        self,\n",
    "        n,            # 列の長さ\n",
    "        identity_e,   # 単位元\n",
    "        combine_f,    # 2 つのデータから値を合成するための関数\n",
    "    ):\n",
    "        self._n = n\n",
    "        self._size = 1\n",
    "        while self._size < self._n:\n",
    "            self._size <<= 1\n",
    "        self._identity_e = identity_e\n",
    "        self._combine_f = combine_f\n",
    "        self._node = [self._identity_e] * (2 * self._size)\n",
    "\n",
    "    # 配列の各要素を登録する\n",
    "    def build(self, array):\n",
    "        assert len(array) == self._n\n",
    "        for index, value in enumerate(array, start=self._size):\n",
    "            self._node[index] = value\n",
    "        for index in range(self._size - 1, 0, -1):\n",
    "            self._node[index] = self._combine_f(\n",
    "                self._node[index << 1 | 0],  # 左の子\n",
    "                self._node[index << 1 | 1],  # 右の子\n",
    "            )\n",
    "\n",
    "    # [一点更新] 位置 index (0-indexed) を値 value で更新\n",
    "    def update(self, index, value):\n",
    "        i = self._size + index\n",
    "        self._node[i] = value\n",
    "        while i > 1:\n",
    "            i >>= 1\n",
    "            self._node[i] = self._combine_f(\n",
    "                self._node[i << 1 | 0],  # 左の子\n",
    "                self._node[i << 1 | 1],  # 右の子\n",
    "            )\n",
    "\n",
    "    # [区間取得] 区間 [l, r) (0-indexed) 内の要素について、\n",
    "    # l 番目から順に combine_f を適用した結果を返す (交換法則が前提になくてもよい)\n",
    "    def fold(self, L, R):\n",
    "        L += self._size\n",
    "        R += self._size\n",
    "        value_L = self._identity_e\n",
    "        value_R = self._identity_e\n",
    "        while L < R:\n",
    "            if L & 1:\n",
    "                value_L = self._combine_f(value_L, self._node[L])\n",
    "                L += 1\n",
    "            if R & 1:\n",
    "                R -= 1\n",
    "                value_R = self._combine_f(self._node[R], value_R)\n",
    "            L >>= 1\n",
    "            R >>= 1\n",
    "        return self._combine_f(value_L, value_R)"
   ]
  },
  {
   "cell_type": "code",
   "execution_count": null,
   "metadata": {},
   "outputs": [],
   "source": [
    "# 使用方法\n",
    "N = ii() # 配列の要素数\n",
    "A = lmii() # 初期配列\n",
    "inf = 10 ** 18\n",
    "tree = SegmentTree(N, inf, min)\n",
    "tree.build(A)\n",
    "tree.update(pos, x) # 値の更新\n",
    "print(tree.fold(l, r)) # 出力値の計算"
   ]
  },
  {
   "cell_type": "markdown",
   "metadata": {},
   "source": [
    "**例題**\n",
    "- [J - 数列の反転](https://atcoder.jp/contests/past202109-open/tasks/past202109_j)\n",
    "- [ABC217D](https://atcoder.jp/contests/abc217/tasks/abc217_d)"
   ]
  },
  {
   "cell_type": "markdown",
   "metadata": {},
   "source": [
    "特定の機能のみを実装したセグメント木\n",
    "- [RMQ](#RMQ)\n",
    "- [RSQ](#RSQ)"
   ]
  },
  {
   "cell_type": "markdown",
   "metadata": {},
   "source": [
    "#### RMQ\n",
    "<a id=\"RMQ\"></a>\n",
    "- Range Maximum Queries"
   ]
  },
  {
   "cell_type": "code",
   "execution_count": null,
   "metadata": {},
   "outputs": [],
   "source": [
    "# 0-indexedで実装\n",
    "# 最大値を求める場合の実装\n",
    "# 最小値を求める場合は、コメントアウトの所を書き換える\n",
    "INF = float(\"inf\")\n",
    "class segtree:\n",
    "    # 要素 dat の初期化を行う（最初は全部ゼロ）\n",
    "    def __init__(self, n):\n",
    "        self.size = 1\n",
    "        while self.size < n:\n",
    "            self.size *= 2\n",
    "        \"\"\"区間内の最大値を求める場合\"\"\"\n",
    "        self.dat = [ 0 ] * (self.size * 2)\n",
    "        \"\"\"区間内の最小値を求める場合\"\"\"\n",
    "        #self.dat = [ INF ] * (self.size * 2)\n",
    "\n",
    "    # クエリ 1 に対する処理\n",
    "    def update(self, pos, x):\n",
    "        pos += self.size # pos は 0-indexed なので、A[pos] のみに対応するセルの番号は pos + size\n",
    "        self.dat[pos] = x\n",
    "        while pos >= 2:\n",
    "            pos //= 2\n",
    "            \"\"\"区間内の最大値を求める場合\"\"\"\n",
    "            self.dat[pos] = max(self.dat[pos * 2], self.dat[pos * 2 + 1])\n",
    "            \"\"\"区間内の最小値を求める場合\"\"\"\n",
    "            #self.dat[pos] = min(self.dat[pos * 2], self.dat[pos * 2 + 1])\n",
    "\n",
    "    # クエリ 2 に対する処理\n",
    "    # u は現在のセル番号、[a, b) はセルに対応する半開区間、[l, r) は求めたい半開区間\n",
    "    def query(self, l, r, a, b, u):\n",
    "        if r <= a or b <= l:\n",
    "            \"\"\"区間内の最大値を求める場合\"\"\"\n",
    "            return -INF # 一切含まれない場合\n",
    "            \"\"\"区間内の最小値を求める場合\"\"\"\n",
    "            #return INF # 一切含まれない場合\n",
    "        if l <= a and b <= r:\n",
    "            return self.dat[u] # 完全に含まれる場合\n",
    "        m = (a + b) // 2\n",
    "        answerl = self.query(l, r, a, m, u * 2)\n",
    "        answerr = self.query(l, r, m, b, u * 2 + 1)\n",
    "        \"\"\"区間内の最大値を求める場合\"\"\"\n",
    "        return max(answerl, answerr)\n",
    "        \"\"\"区間内の最小値を求める場合\"\"\"\n",
    "        #return min(answerl, answerr)\n",
    "    \n",
    "Tree = segtree(N)\n",
    "ans = Tree.query(l-1, r-1, 0, Tree.size, 1)"
   ]
  },
  {
   "cell_type": "markdown",
   "metadata": {},
   "source": [
    "**例題**\n",
    "- [A58 - RMQ (Range Maximum Queries)](https://atcoder.jp/contests/tessoku-book/tasks/tessoku_book_bf)\n",
    "- [B58 - Jumping](https://atcoder.jp/contests/tessoku-book/tasks/tessoku_book_ee)"
   ]
  },
  {
   "cell_type": "markdown",
   "metadata": {},
   "source": [
    "#### RSQ\n",
    "<a id=\"RSQ\"></a>\n",
    "- Range Sum Queries"
   ]
  },
  {
   "cell_type": "code",
   "execution_count": null,
   "metadata": {},
   "outputs": [],
   "source": [
    "# 0-indexedで実装\n",
    "class segtree:\n",
    "    # 要素 dat の初期化を行う（最初は全部ゼロ）\n",
    "    def __init__(self, n):\n",
    "        self.size = 1\n",
    "        while self.size < n:\n",
    "            self.size *= 2\n",
    "        self.dat = [ 0 ] * (self.size * 2)\n",
    "\n",
    "    # クエリ 1 に対する処理\n",
    "    def update(self, pos, x):\n",
    "        pos += self.size # pos は 0-indexed なので、A[pos] のみに対応するセルの番号は pos + size\n",
    "        self.dat[pos] = x\n",
    "        while pos >= 2:\n",
    "            pos //= 2\n",
    "            self.dat[pos] = self.dat[pos * 2] + self.dat[pos * 2 + 1]\n",
    "\n",
    "    # クエリ 2 に対する処理\n",
    "    # u は現在のセル番号、[a, b) はセルに対応する半開区間、[l, r) は求めたい半開区間\n",
    "    def query(self, l, r, a, b, u):\n",
    "        if r <= a or b <= l:\n",
    "            return 0 # 一切含まれない場合\n",
    "        if l <= a and b <= r:\n",
    "            return self.dat[u] # 完全に含まれる場合\n",
    "        m = (a + b) // 2\n",
    "        answerl = self.query(l, r, a, m, u * 2)\n",
    "        answerr = self.query(l, r, m, b, u * 2 + 1)\n",
    "        return answerl + answerr\n",
    "    \n",
    "Tree = segtree(N)\n",
    "ans = Tree.query(l-1, r-1, 0, Tree.size, 1)"
   ]
  },
  {
   "cell_type": "markdown",
   "metadata": {},
   "source": [
    "**例題**\n",
    "- [A59 - RSQ (Range Sum Queries)](https://atcoder.jp/contests/tessoku-book/tasks/tessoku_book_bg)\n",
    "- [B59 - Number of Inversions](https://atcoder.jp/contests/tessoku-book/tasks/tessoku_book_ef)"
   ]
  },
  {
   "cell_type": "markdown",
   "metadata": {},
   "source": [
    "### 9. [遅延評価セグメント木](https://qiita.com/ether2420/items/7b67b2b35ad5f441d686)\n",
    "<a id=\"遅延評価セグメント木\"></a>\n",
    "\n",
    "- 区間に対して更新が必要な時に使用する。\n",
    "- 全体の長さが $N$ の列に対して区間更新を $O(\\log N)$ で処理できる。通常のセグメント木で同じことを実現しようとすると、区間の長さを $L$ として $O(L\\log N)$ かかる。\n",
    "- 以降で、「値データ」を区間評価値（区間最小値など）、「遅延データ」を対応する区間全体に対して一様に処理すべきデータとして、説明する。"
   ]
  },
  {
   "cell_type": "markdown",
   "metadata": {},
   "source": [
    "**遅延評価セグメント木が、どのような演算の時に使用できるかについて考える。**\n",
    "- まず、以下を定義する。\n",
    "    - 値データが取り得る値の集合を $X$、遅延データが取り得る値の集合を $M$ とする\n",
    "    - 次の二項演算を定義する。\n",
    "        - $\\bullet$：$X \\bullet X \\rightarrow X$\n",
    "            - 2つの値データを合成し、1つの値データを返す演算\n",
    "            - 区間取得に利用\n",
    "        - $\\times$：$M \\times M \\rightarrow M$\n",
    "            - 2つの遅延データを合成し、1つの遅延データを返す演算\n",
    "            - 親の遅延データが伝播されてきたときに利用\n",
    "        - $\\star$：$X \\star M \\rightarrow X$\n",
    "            - 遅延データを値データに反映（作用）させ、新たな値データを返す演算\n",
    "            - 区間更新に利用\n",
    "- 次の条件をすべて満たすとき、遅延評価セグメント木を利用できる。\n",
    "    - $(X, \\bullet)$ と $(M,\\times)$ はともにモノイドである\n",
    "    - $X$ の任意の元 $x$ と $M$ の単位元 $e_M$ について、$x \\star e_M = x$\n",
    "    - 任意の $x \\in X$ と $m_1, m_2 \\in M$ について、$(x \\star m_1) \\star m_2 = x \\star (m_1 \\times m_2)$\n",
    "    - 任意の $x_1, x_2 \\in X$ と $m \\in M$ について、$(x_1 \\bullet x_2) \\star M = (x_1 \\star M) \\bullet (x_2 \\star M)$"
   ]
  },
  {
   "cell_type": "markdown",
   "metadata": {},
   "source": [
    "クエリ1が区間更新、クエリ2が区間処理とする\n",
    "\n",
    "| クエリ1の処理 | クエリ2の処理 | identity_e_node | identity_e_lazy | combine_node_f | combine_lazy_f | reflect_f |\n",
    "| :--- | :---: | :---: | :---: | :---: | :---: | :---: |\n",
    "| $a_l,\\dots,a_{r-1}$に$x$を足す | $\\min(a_l,\\dots,a_{r-1})$ | inf | 0 | min | add | add |\n",
    "|  |  |  |  |  |  |  |\n",
    "|  |  |  |  |  |  |  |\n",
    "|  |  |  |  |  |  |  |\n",
    "|  |  |  |  |  |  |  |\n",
    "\n",
    "```python\n",
    "def add(a, b):\n",
    "    return a + b\n",
    "```"
   ]
  },
  {
   "cell_type": "code",
   "execution_count": null,
   "metadata": {},
   "outputs": [],
   "source": [
    "class LazySegmentTree:\n",
    "    def __init__(\n",
    "        self,\n",
    "        n,  # 列の長さ\n",
    "        identity_e_node,  # 値データの単位元\n",
    "        identity_e_lazy,  # 遅延データの単位元\n",
    "        combine_node_f,  # 値データどうしを合成するために使用する関数\n",
    "        combine_lazy_f,  # 遅延データを伝播させるために使用する関数\n",
    "        reflect_f,  # 遅延データを値データに反映させるために使用する関数\n",
    "    ):\n",
    "        self._n = n\n",
    "        self._size = 1\n",
    "        self._height = 0\n",
    "        while self._size < self._n:\n",
    "            self._size <<= 1\n",
    "            self._height += 1\n",
    "        self._identity_e_node = identity_e_node\n",
    "        self._identity_e_lazy = identity_e_lazy\n",
    "        self._combine_node_f = combine_node_f\n",
    "        self._combine_lazy_f = combine_lazy_f\n",
    "        self._reflect_f = reflect_f\n",
    "        self._node = [self._identity_e_node] * (2 * self._size)\n",
    "        self._lazy = [self._identity_e_lazy] * (2 * self._size)\n",
    "\n",
    "    # 遅延データの値を値データに反映させたときの結果を返す\n",
    "    def _reflect_lazy(self, index):\n",
    "        return self._reflect_f(self._node[index], self._lazy[index])\n",
    "\n",
    "    # [遅延評価] index 番目 (0-indexed) の要素を含む区間について遅延データを伝播させる\n",
    "    # 根に近いものから処理される\n",
    "    def _propagate_from_top(self, index):\n",
    "        index += self._size\n",
    "        for h in range(self._height, 0, -1):\n",
    "            i = index >> h\n",
    "            if self._lazy[i] != self._identity_e_lazy:\n",
    "                # 遅延データの情報を子に伝播させる\n",
    "                self._lazy[i << 1] = self._combine_lazy_f(\n",
    "                    self._lazy[i << 1], self._lazy[i]  # 左の子\n",
    "                )\n",
    "                self._lazy[i << 1 | 1] = self._combine_lazy_f(\n",
    "                    self._lazy[i << 1 | 1], self._lazy[i]  # 右の子\n",
    "                )\n",
    "\n",
    "                # 遅延データの情報を値データに反映させ、遅延データの値をリセット\n",
    "                self._node[i] = self._reflect_lazy(i)\n",
    "                self._lazy[i] = self._identity_e_lazy\n",
    "\n",
    "    # index 番目 (0-indexed) の要素を表す葉から順に値データを確定させる\n",
    "    # (正確には葉に対しては行っておらず、葉の親から順に確定させている)\n",
    "    def _update_from_bottom(self, index):\n",
    "        index = (index + self._size) >> 1\n",
    "        while index > 0:\n",
    "            self._node[index] = self._combine_node_f(\n",
    "                self._reflect_lazy(index << 1),\n",
    "                self._reflect_lazy(index << 1 | 1)\n",
    "            )\n",
    "            index >>= 1\n",
    "\n",
    "    # 配列の各要素を登録する\n",
    "    def build(self, array):\n",
    "        assert len(array) == self._n\n",
    "        for index, value in enumerate(array, start=self._size):\n",
    "            self._node[index] = value\n",
    "        for index in range(self._size - 1, 0, -1):\n",
    "            self._node[index] = self._combine_node_f(\n",
    "                self._node[index << 1],  # 左の子\n",
    "                self._node[index << 1 | 1],  # 右の子\n",
    "            )\n",
    "\n",
    "    # [区間更新] 位置 [L, R) (0-indexed) を値 value で更新\n",
    "    def update(self, L, R, value):\n",
    "        # トップダウンに遅延データの値を子に伝播させる\n",
    "        self._propagate_from_top(L)\n",
    "        self._propagate_from_top(R - 1)\n",
    "\n",
    "        # 入力に対応する区間について遅延データを更新\n",
    "        L_lazy = L + self._size\n",
    "        R_lazy = R + self._size\n",
    "        while L_lazy < R_lazy:\n",
    "            if L_lazy & 1:\n",
    "                self._lazy[L_lazy] = \\\n",
    "                    self._combine_lazy_f(self._lazy[L_lazy], value)\n",
    "                L_lazy += 1\n",
    "            if R_lazy & 1:\n",
    "                R_lazy -= 1\n",
    "                self._lazy[R_lazy] = \\\n",
    "                    self._combine_lazy_f(self._lazy[R_lazy], value)\n",
    "            L_lazy >>= 1\n",
    "            R_lazy >>= 1\n",
    "\n",
    "        # 値データをボトムアップに更新\n",
    "        self._update_from_bottom(L)\n",
    "        self._update_from_bottom(R - 1)\n",
    "\n",
    "    # [区間取得] 区間 [l, r) (0-indexed) 内の要素について、\n",
    "    # l 番目から順に combine_node_f を適用した結果を返す (交換法則が前提になくても良い)\n",
    "    def fold(self, L, R):\n",
    "        # トップダウンに遅延データの値を子に伝播させる\n",
    "        self._propagate_from_top(L)\n",
    "        self._propagate_from_top(R - 1)\n",
    "\n",
    "        # 入力に対応する区間について値を取得して合成\n",
    "        L += self._size\n",
    "        R += self._size\n",
    "        value_L = self._identity_e_node\n",
    "        value_R = self._identity_e_node\n",
    "        while L < R:\n",
    "            if L & 1:\n",
    "                value_L = self._combine_node_f(value_L,\n",
    "                                               self._reflect_lazy(L))\n",
    "                L += 1\n",
    "            if R & 1:\n",
    "                R -= 1\n",
    "                value_R = self._combine_node_f(self._reflect_lazy(R),\n",
    "                                               value_R)\n",
    "            L >>= 1\n",
    "            R >>= 1\n",
    "        return self._combine_node_f(value_L, value_R)"
   ]
  },
  {
   "cell_type": "markdown",
   "metadata": {},
   "source": [
    "使い方　[H - 区間加算・区間最小値](https://atcoder.jp/contests/pastbook2022/tasks/pastbook2022_h)\n",
    "```python\n",
    "N = ii()\n",
    "A = lmii()\n",
    "Q = ii()\n",
    "Querys = llii(Q)\n",
    "\n",
    "inf = 10 ** 18\n",
    "def add(a, b):\n",
    "    return a + b\n",
    "\n",
    "tree = LazySegmentTree(N, inf, 0, min, add, add)\n",
    "tree.build(A)\n",
    "\n",
    "for query in Querys:\n",
    "    if query[0] == 1:\n",
    "        l, r, x = query[1:]\n",
    "        tree.update(l, r, x)\n",
    "    else:\n",
    "        l, r = query[1:]\n",
    "        ans = tree.fold(l, r)\n",
    "        print(ans)\n",
    "```"
   ]
  },
  {
   "cell_type": "markdown",
   "metadata": {},
   "source": [
    "**例題**\n",
    "- [029 - Long Bricks（★5）](https://atcoder.jp/contests/typical90/tasks/typical90_ac)\n",
    "- [H - 区間加算・区間最小値](https://atcoder.jp/contests/pastbook2022/tasks/pastbook2022_h)\n",
    "- [E - Replace Digits](https://atcoder.jp/contests/abl/tasks/abl_e)\n",
    "- [K - Range Affine Range Sum](https://atcoder.jp/contests/practice2/tasks/practice2_k)\n",
    "- [L - Lazy Segment Tree](https://atcoder.jp/contests/practice2/tasks/practice2_l)"
   ]
  },
  {
   "cell_type": "markdown",
   "metadata": {},
   "source": [
    "---"
   ]
  },
  {
   "cell_type": "markdown",
   "metadata": {},
   "source": [
    "### 10. 深さ優先探索\n",
    "<a id=\"深さ優先探索\"></a>\n",
    "- 「進めるだけ進み、行き詰まったら一歩戻る」\n",
    "    1. 頂点 nex に進むときは dfs(nex) を再帰呼び出し\n",
    "    2. 一歩戻るときは return する\n",
    "- **再帰関数は pypy より python で実行する**\n",
    "    - **以下のコードを書くことで、pypyの再帰関数が速くなる。** 参考は[こちら](https://qiita.com/shoji9x9/items/e7d19bd6f54e960f46be)\n",
    "    > ```python\n",
    "    import pypyjit\n",
    "    pypyjit.set_param('max_unroll_recursion=-1')\n",
    "    import sys\n",
    "    sys.setrecursionlimit(10**8)\n",
    "    ```"
   ]
  },
  {
   "cell_type": "code",
   "execution_count": null,
   "metadata": {},
   "outputs": [],
   "source": [
    "import sys\n",
    "sys.setrecursionlimit(10**8)\n",
    "\n",
    "def dfs(pos, G, visited):\n",
    "    visited[pos] = True\n",
    "    for nxt in G[pos]:\n",
    "        if not visited[nxt]:\n",
    "            dfs(nxt, G, visited)\n",
    "    return"
   ]
  },
  {
   "cell_type": "markdown",
   "metadata": {},
   "source": [
    "**例題**\n",
    "- [A62 - Depth First Search](https://atcoder.jp/contests/tessoku-book/tasks/math_and_algorithm_am)\n",
    "- [B62 - Print a Path](https://atcoder.jp/contests/tessoku-book/tasks/tessoku_book_ei)\n",
    "- [003 - Longest Circular Road（★4）](https://atcoder.jp/contests/typical90/tasks/typical90_c)\n",
    "- [ABC240E](https://atcoder.jp/contests/abc240/tasks/abc240_e)\n",
    "- [ABC239E](https://atcoder.jp/contests/abc239/tasks/abc239_e)"
   ]
  },
  {
   "cell_type": "markdown",
   "metadata": {},
   "source": [
    "---"
   ]
  },
  {
   "cell_type": "markdown",
   "metadata": {},
   "source": [
    "### 11. 幅優先探索\n",
    "<a id=\"幅優先探索\"></a>"
   ]
  },
  {
   "cell_type": "code",
   "execution_count": null,
   "metadata": {},
   "outputs": [],
   "source": [
    "from collections import deque\n",
    "\n",
    "while que:\n",
    "    p = que.popleft()\n",
    "    for nex in G[p]:\n",
    "        if not visited[nex]:\n",
    "            que.append(nex)\n",
    "            visited[nex] = True"
   ]
  },
  {
   "cell_type": "markdown",
   "metadata": {},
   "source": [
    "**例題**\n",
    "- [A63 - Shortest Path 1](https://atcoder.jp/contests/tessoku-book/tasks/math_and_algorithm_an)\n",
    "- [B63 - 幅優先探索](https://atcoder.jp/contests/tessoku-book/tasks/abc007_3)"
   ]
  },
  {
   "cell_type": "markdown",
   "metadata": {},
   "source": [
    "---"
   ]
  },
  {
   "cell_type": "markdown",
   "metadata": {},
   "source": [
    "### 12. ダイクストラ法\n",
    "<a id=\"ダイクストラ法\"></a>\n",
    "- 優先度付きキュー [heapq](https://qiita.com/ell/items/fe52a9eb9499b7060ed6) を使用する\n",
    "- 辺の重みが1のときは幅優先探索の方が早いことに注意\n",
    "- heapqを利用する際に、各要素が2次元になるとき、tupleで持った方が高速"
   ]
  },
  {
   "cell_type": "code",
   "execution_count": null,
   "metadata": {},
   "outputs": [],
   "source": [
    "import heapq\n",
    "\n",
    "que = [[0, 1]] # [[コスト, position]]\n",
    "heapq.heapify(que)\n",
    "ans = [-1]*(N+1)\n",
    "\n",
    "while que:\n",
    "    cost, pos = heapq.heappop(que)\n",
    "    # 未到達であればコストを更新\n",
    "    if ans[pos] == -1:\n",
    "        ans[pos] = cost\n",
    "    else:\n",
    "        continue\n",
    "    \n",
    "    for nex, c in G[pos]:\n",
    "        if ans[nex] == -1:\n",
    "            heapq.heappush(que, [cost+c, nex])"
   ]
  },
  {
   "cell_type": "markdown",
   "metadata": {},
   "source": [
    "**例題**\n",
    "- [A64 - Shortest Path 2](https://atcoder.jp/contests/tessoku-book/tasks/tessoku_book_bl)\n",
    "- [B64 - Shortest Path with Restoration ](https://atcoder.jp/contests/tessoku-book/tasks/tessoku_book_ek)\n",
    "- [013 - Passing（★5）](https://atcoder.jp/contests/typical90/tasks/typical90_m)\n",
    "- [C14 - Commute Route](https://atcoder.jp/contests/tessoku-book/tasks/tessoku_book_fl)"
   ]
  },
  {
   "cell_type": "markdown",
   "metadata": {},
   "source": [
    "- 負のコストが発生するときは[最小費用流問題](#最小費用流問題)におけるベルマンフォード法を用いる。\n",
    "- しかし、計算量の観点から最適でない場合がある。\n",
    "- その場合は、**[ポテンシャル](https://kyo-pro.hatenablog.com/entry/ABC237E)**という概念を導入して、ダイクストラ法で解くことができる場合がある。\n",
    "    - **例題**\n",
    "        - [ABC237E](https://atcoder.jp/contests/abc237/tasks/abc237_e)"
   ]
  },
  {
   "cell_type": "markdown",
   "metadata": {},
   "source": [
    "---"
   ]
  },
  {
   "cell_type": "markdown",
   "metadata": {},
   "source": [
    "### 13. Union-Find\n",
    "<a id=\"Union-Find\"></a>\n",
    "- 連結成分を調べる\n",
    "    - 複数のグラフが存在して、各連結成分ごとに処理を行う場合に使える\n",
    "- グラフや依存関係でよく使う"
   ]
  },
  {
   "cell_type": "code",
   "execution_count": null,
   "metadata": {},
   "outputs": [],
   "source": [
    "class unionfind:\n",
    "  # n 頂点の Union-Find 木を作成\n",
    "  # ここでは頂点番号が 1-indexed になるように実装\n",
    "  # 0-indexed の場合は par, size のサイズは n でよい\n",
    "    def __init__(self, n):\n",
    "        self.n = n\n",
    "        self.par = [-1] * (n+1)\n",
    "        self.size = [1] * (n+1)\n",
    "\n",
    "    # 頂点 x の根を返す関数\n",
    "    def root(self, x):\n",
    "        # 1 個先（親）がなくなる（つまり根に到達する）まで、1 個先（親）に進み続ける\n",
    "        while self.par[x] != -1:\n",
    "            x = self.par[x]\n",
    "        return x\n",
    "  \n",
    "    # 要素 u, v を統合する関数\n",
    "    def unite(self, u, v):\n",
    "        rootu = self.root(u)\n",
    "        rootv = self.root(v)\n",
    "        # u と v が異なるグループの時のみ処理を行う\n",
    "        if rootu != rootv:\n",
    "            if self.size[rootu] < self.size[rootv]:\n",
    "                self.par[rootu] = rootv\n",
    "                self.size[rootv] += self.size[rootu]\n",
    "            else:\n",
    "                self.par[rootv] = rootu\n",
    "                self.size[rootu] += self.size[rootv]\n",
    "\n",
    "    # 要素 u と v が同一のグループかどうかを返す関数\n",
    "    def same(self, u, v):\n",
    "        return self.root(u) == self.root(v)"
   ]
  },
  {
   "cell_type": "code",
   "execution_count": null,
   "metadata": {},
   "outputs": [],
   "source": [
    "from collections import defaultdict\n",
    "\n",
    "class UnionFind():\n",
    "    #はじめに頂点数n,辺の数0の無向グラフを定義\n",
    "    def __init__(self, n):\n",
    "        self.n = n\n",
    "        self.group_c = n\n",
    "        self.parents = [-1] * n\n",
    "    #根を返す関数（自分が根のときは自分を返す）\n",
    "    def find(self, x):\n",
    "        if self.parents[x] < 0:\n",
    "            return x\n",
    "        else:\n",
    "            self.parents[x] = self.find(self.parents[x])\n",
    "            return self.parents[x]\n",
    "    #頂点x,y間に無向辺を張る\n",
    "    def union(self, x, y):\n",
    "        x = self.find(x)\n",
    "        y = self.find(y)\n",
    "\n",
    "        if x == y:\n",
    "            return\n",
    "\n",
    "        if self.parents[x] > self.parents[y]:\n",
    "            x, y = y, x\n",
    "        self.group_c-=1\n",
    "        self.parents[x] += self.parents[y]\n",
    "        self.parents[y] = x\n",
    "    #連結成分の大きさを返す\n",
    "    def size(self, x):\n",
    "        return -self.parents[self.find(x)]\n",
    "    #連結成分であるか判定\n",
    "    def same(self, x, y):\n",
    "        return self.find(x) == self.find(y)\n",
    "    #同じ連結成分であるものを列挙\n",
    "    def members(self, x):\n",
    "        root = self.find(x)\n",
    "        return [i for i in range(self.n) if self.find(i) == root]\n",
    "    #根であるものを列挙\n",
    "    def roots(self):\n",
    "        return [i for i, x in enumerate(self.parents) if x < 0]\n",
    "    #グループの数を列挙\n",
    "    def group_count(self):\n",
    "        return self.group_c\n",
    "    #グループとそのメンバーを列挙\n",
    "    def all_group_members(self):\n",
    "        group_members = defaultdict(list)\n",
    "        for member in range(self.n):\n",
    "            group_members[self.find(member)].append(member)\n",
    "        return group_members\n",
    "    #出力の場合\n",
    "    def __str__(self):\n",
    "        return '\\n'.join(f'{r}: {m}' for r, m in self.all_group_members().items())"
   ]
  },
  {
   "cell_type": "markdown",
   "metadata": {},
   "source": [
    "**例題**\n",
    "- [A66 - Connect Query](https://atcoder.jp/contests/tessoku-book/tasks/tessoku_book_bn)\n",
    "- [B66 - Typhoon](https://atcoder.jp/contests/tessoku-book/tasks/tessoku_book_em)\n",
    "- [ABC231D](https://atcoder.jp/contests/abc231/tasks/abc231_d)\n",
    "- [ABC288C](https://atcoder.jp/contests/abc288/tasks/abc288_c)\n",
    "- [ARC106B](https://atcoder.jp/contests/arc106/tasks/arc106_b)"
   ]
  },
  {
   "cell_type": "markdown",
   "metadata": {},
   "source": [
    "---"
   ]
  },
  {
   "cell_type": "markdown",
   "metadata": {},
   "source": [
    "### 14.  最小全域木\n",
    "<a id=\"最小全域木\"></a>\n",
    "- 全域木：M個のへんの中からいくつかを選んで作った、すべての頂点が繋がっている木のこと（閉路を持ってはいけない）\n",
    "- 最小全域木：全域木の中で、長さの合計が最小となるもの\n",
    "\n",
    "**求め方**\n",
    "- クラスカル法と呼ばれる、短い変から追加していくという単純な貪欲法によって求めることができる\n",
    "    - 配列のソートとUnion-Findを用いて実装可能。計算量は $O(M\\log M + N)$"
   ]
  },
  {
   "cell_type": "code",
   "execution_count": null,
   "metadata": {},
   "outputs": [],
   "source": [
    "# Union-Find インスタンスを生成\n",
    "UF = unionfind(N)\n",
    "# 辺を短い順にsort\n",
    "ABC = sorted(ABC, key=lambda A:A[2])\n",
    "# 答え変数\n",
    "ans = 0\n",
    "# 辺が短い順に追加していく。すでに連結であればスルー\n",
    "for a, b, c in ABC:\n",
    "    if UF.same(a, b):\n",
    "        continue\n",
    "    ans += c\n",
    "    UF.unite(a, b)\n",
    "print(ans)"
   ]
  },
  {
   "cell_type": "markdown",
   "metadata": {},
   "source": [
    "**例題**\n",
    "- [A67 - MST (Minimum Spanning Tree)](https://atcoder.jp/contests/tessoku-book/tasks/tessoku_book_bo)\n",
    "- [B67 - Max MST](https://atcoder.jp/contests/tessoku-book/tasks/tessoku_book_en)"
   ]
  },
  {
   "cell_type": "markdown",
   "metadata": {},
   "source": [
    "---"
   ]
  },
  {
   "cell_type": "markdown",
   "metadata": {},
   "source": [
    "### 15. 最大フロー（最小カット）\n",
    "<a id=\"最大フロー（最小カット）\"></a>\n",
    "\n",
    "- 重み付き有向グラフで表されるパイプラインにおいて、スタートからゴールまで流せる水の総量を最大化する問題\n",
    "- 最大フロー問題 = 最小カット問題"
   ]
  },
  {
   "cell_type": "code",
   "execution_count": null,
   "metadata": {},
   "outputs": [],
   "source": [
    "import sys\n",
    "\n",
    "# 最大フロー用の辺の構造体\n",
    "class maxflow_edge:\n",
    "    def __init__(self, to, cap, rev):\n",
    "        self.to = to # 辺の行先\n",
    "        self.cap = cap # 辺の容量\n",
    "        self.rev = rev # 辺uの逆辺がGの何番目に存在するか\n",
    "    \n",
    "# 深さ優先探索\n",
    "sys.setrecursionlimit(10**8)\n",
    "def dfs(pos, goal, F, G, used):\n",
    "    # ゴールに到達\n",
    "    if pos == goal:\n",
    "        return F\n",
    "    # 探索する\n",
    "    used[pos] = True\n",
    "    for e in G[pos]:\n",
    "        # 容量が１以上でかつ、まだ訪問していない頂点にのみ行く\n",
    "        if (e.cap > 0) and (not used[e.to]):\n",
    "            flow = dfs(e.to, goal, min(F, e.cap), G, used)\n",
    "            # フローを流せる場合、残余グラフの容量をflowだけ増減させる\n",
    "            if flow >= 1:\n",
    "                e.cap -= flow\n",
    "                G[e.to][e.rev].cap += flow\n",
    "                return flow\n",
    "    # すべてのへんを探索しても見つからなかった\n",
    "    return 0\n",
    " \n",
    "# 頂点sから頂点tまでの最大フローの総流量を返す（頂点数:N, 辺のリスト:edges）\n",
    "def maxflow(N, s, t, edges):\n",
    "    # 初期状態の残余グラフを構築\n",
    "    G = [list() for i in range(N+1)]\n",
    "    for a, b, c in edges:\n",
    "        G[a].append(maxflow_edge(b, c, len(G[b])))\n",
    "        G[b].append(maxflow_edge(a, 0, len(G[a])-1))\n",
    "    INF = 10 ** 10\n",
    "    total_flow = 0\n",
    "    while True:\n",
    "        used = [False] * (N+1)\n",
    "        F = dfs(s, t, INF, G, used)\n",
    "        if F > 0:\n",
    "            total_flow += F\n",
    "        else:\n",
    "            break\n",
    "    return total_flow"
   ]
  },
  {
   "cell_type": "markdown",
   "metadata": {},
   "source": [
    "**例題**\n",
    "- [A68 - Maximum Flow](https://atcoder.jp/contests/tessoku-book/tasks/tessoku_book_bp)"
   ]
  },
  {
   "cell_type": "markdown",
   "metadata": {},
   "source": [
    "**[燃やす埋める問題](https://zenn.dev/kiwamachan/articles/37a2c646f82c7d)**\n",
    "\n",
    "- Ford-Fulkerson法：最大フローを求めるアルゴリズム"
   ]
  },
  {
   "cell_type": "code",
   "execution_count": null,
   "metadata": {},
   "outputs": [],
   "source": [
    "import sys\n",
    "sys.setrecursionlimit(10**8)\n",
    " \n",
    "INF = 10**10\n",
    " \n",
    "class Edge:\n",
    "    def __init__(self, to, cap, rev):\n",
    "        self.to = to\n",
    "        self.cap = cap\n",
    "        self.rev = rev\n",
    "    \n",
    "class FordFulkerson:\n",
    "    def __init__(self, N):\n",
    "        self.size = N\n",
    "        self.g = [[] for _ in range(N)]\n",
    "    \n",
    "    def add_edge(self, a, b, c):\n",
    "        g = self.g\n",
    "        e = Edge(b, c, None)\n",
    "        rev = Edge(a, 0, e)\n",
    "        e.rev = rev\n",
    "        g[a].append(e)\n",
    "        g[b].append(rev)\n",
    "  \n",
    "    def dfs(self, i, goal, F):\n",
    "        if i == goal:\n",
    "            return F\n",
    "    \n",
    "        self.visited[i] = True\n",
    "    \n",
    "        for e in self.g[i]:\n",
    "            # 容量0の辺は使えない\n",
    "            if e.cap == 0:\n",
    "                continue\n",
    "            # すでに訪問した頂点に行かない\n",
    "            if self.visited[e.to]:\n",
    "                continue\n",
    "            # 目的地までのパスを探す\n",
    "            flow = self.dfs(e.to, goal, min(F, e.cap))\n",
    "            # フローを流せる場合、残余グラフの容量をflowだけ増減させる\n",
    "            if flow:\n",
    "                e.cap -= flow\n",
    "                e.rev.cap += flow\n",
    "                return flow\n",
    "        # すべての辺を探索しても見つからなかった\n",
    "        return 0\n",
    "  \n",
    "    def max_flow(self, s, t):\n",
    "        ans = 0\n",
    "        while True:\n",
    "            self.visited = [False] * self.size\n",
    "            F = self.dfs(s, t, INF)\n",
    "      \n",
    "            # フローを流せなくなったら操作修了\n",
    "            if F == 0:\n",
    "                break\n",
    "            ans += F\n",
    "        return ans"
   ]
  },
  {
   "cell_type": "markdown",
   "metadata": {},
   "source": [
    "**例題**\n",
    "- [B68 - ALGO Express](https://atcoder.jp/contests/tessoku-book/tasks/tessoku_book_eo)\n",
    "- [燃やす埋める問題、演習まとめ](https://zenn.dev/kiwamachan/articles/3dd867719729d6)"
   ]
  },
  {
   "cell_type": "markdown",
   "metadata": {},
   "source": [
    "---"
   ]
  },
  {
   "cell_type": "markdown",
   "metadata": {},
   "source": [
    "### 16. 二部マッチング\n",
    "<a id=\"二部マッチング\"></a>\n",
    "\n",
    "- 二部グラフが与えられた時、同じ頂点から出る辺は1つしか選べないという条件下で、最大何本のへんを選ぶことができるかを求める問題\n",
    "- マッチングの最大本数は、最大フロー問題に書き換えることができる\n",
    "    1. 二部グラフのへんに向きをつける\n",
    "    2. スタート地点 s を追加して、s からクラス1頂点に向かう辺を追加する\n",
    "    3. ゴール地点 t を追加して、クラス2頂点から t に向かう辺を追加する\n",
    "    4. すべてのへんの容量を1としたときの、「s から t までの最大フロー総流量」が、マッチング最大本数と一致する"
   ]
  },
  {
   "cell_type": "code",
   "execution_count": null,
   "metadata": {},
   "outputs": [],
   "source": [
    "# s = 0, t = 2N+1 として、スタート地点とゴール地点を追加\n",
    "for i in range(N):\n",
    "    edges.append((0, i+1, 1))\n",
    "    edges.append((N+i+1, 2*N+1, 1))\n",
    "    \n",
    "# スタートからゴールまでの最大フローを求める\n",
    "ans = maxflow(2*N+2, 0, 2*N+1, edges)"
   ]
  },
  {
   "cell_type": "markdown",
   "metadata": {},
   "source": [
    "**例題**\n",
    "- [A69 - Bipartite Matching](https://atcoder.jp/contests/tessoku-book/tasks/tessoku_book_bq)\n",
    "- [B69 - Black Company 2](https://atcoder.jp/contests/tessoku-book/tasks/tessoku_book_ep)"
   ]
  },
  {
   "cell_type": "markdown",
   "metadata": {},
   "source": [
    "---"
   ]
  },
  {
   "cell_type": "markdown",
   "metadata": {},
   "source": [
    "### 17. 強連結成分分解\n",
    "<a id=\"強連結成分分解\"></a>\n",
    "- 強連結成分（SCC : Strongly Connected Component）\n",
    "- 有向グラフに対して「頂点 $x,y$ が互いに到達可能」なことを強連結といい、どんなグラフでも強連結な頂点のグループに分けることができる。\n",
    "- [参考サイト](https://qiita.com/AkariLuminous/items/a2c789cebdd098dcb503)"
   ]
  },
  {
   "cell_type": "code",
   "execution_count": null,
   "metadata": {},
   "outputs": [],
   "source": [
    "import sys\n",
    "\n",
    "def csr(n, E):\n",
    "    start = [0] * (n + 1)\n",
    "    elist = [0] * len(E)\n",
    "    # start[i+1] = 頂点 i を始点とする辺の数\n",
    "    for e0, e1 in E:\n",
    "        start[e0 + 1] += 1\n",
    "    #累積和\n",
    "    for i in range(1, n + 1):\n",
    "        start[i] += start[i - 1]\n",
    "    #挿入位置を表すポインタ\n",
    "    counter = start[:]\n",
    "    for e0, e1 in E:\n",
    "        elist[counter[e0]] = e1\n",
    "        counter[e0] += 1 # ポインタを進める\n",
    "    return start, elist\n",
    "\n",
    "\"\"\" 0-indexed で実装 \"\"\"\n",
    "class _SCC_graph:\n",
    "    # N：頂点数\n",
    "    def __init__(self, n):\n",
    "        self._n = n\n",
    "        self.edges = []\n",
    "        # 再帰の上限をセット\n",
    "        #sys.setrecursionlimit(max(2*n, sys.getrecursionlimit()))\n",
    "        sys.setrecursionlimit(10**8)\n",
    "    \n",
    "    def num_vertices(self):\n",
    "        return self._n\n",
    "    \n",
    "    \"\"\" 辺を追加 (0-indexed)\n",
    "        Arguments:\n",
    "            frm(int)：追加する辺の始点\n",
    "            to(int)：追加する辺の終点\n",
    "    \"\"\"\n",
    "    def add_edge(self, frm, to):\n",
    "        self.edges.append([frm, to])\n",
    "    \n",
    "    \"\"\"Tarjan のアルゴリズムでグラフの強連結成分分解を行う\n",
    "        Returns:\n",
    "            group_num (int): グラフの強連結成分数\n",
    "            ids (List[int]): 各頂点が属する強連結成分のid\n",
    "    \"\"\"\n",
    "    def scc_ids(self):\n",
    "        start, elist = csr(self._n, self.edges)\n",
    "        now_ord, group_num = 0, 0\n",
    "        visited = []\n",
    "        low = [0] * self._n\n",
    "        ord_ = [-1] * self._n\n",
    "        ids = [0] * self._n\n",
    " \n",
    "        def dfs(v):\n",
    "            nonlocal now_ord, group_num, visited, low, ord_, ids\n",
    "            low[v] = ord_[v] = now_ord\n",
    "            now_ord += 1\n",
    "            visited.append(v)\n",
    "            for i in range(start[v], start[v+1]):\n",
    "                to = elist[i]\n",
    "                if ord_[to] == -1:\n",
    "                    dfs(to)\n",
    "                    low[v] = min(low[v], low[to])\n",
    "                else:\n",
    "                    low[v] = min(low[v], ord_[to])\n",
    "            if low[v] == ord_[v]:\n",
    "                while True:\n",
    "                    u = visited.pop()\n",
    "                    ord_[u] = self._n\n",
    "                    ids[u] = group_num\n",
    "                    if u == v: break\n",
    "                group_num += 1\n",
    "        \n",
    "        for i in range(self._n):\n",
    "            if ord_[i] == -1: dfs(i)\n",
    "        for i in range(self._n):\n",
    "            ids[i] = group_num - 1 - ids[i]\n",
    "        \n",
    "        return group_num, ids\n",
    "    \n",
    "    \"\"\" 強連結成分分解の結果を整形して返す\n",
    "    Returens：\n",
    "        groups ( List[List[int]] ) : 各リストがそれぞれSCCに対応。縮約されたグラフでのトポロジカルソートがされている\n",
    "    \"\"\"\n",
    "    def scc(self):\n",
    "        group_num, ids = self.scc_ids()\n",
    "        groups = [[] for _ in range(group_num)]\n",
    "        for i in range(self._n):\n",
    "            groups[ids[i]].append(i)\n",
    "        return groups"
   ]
  },
  {
   "cell_type": "markdown",
   "metadata": {},
   "source": [
    "**例題**\n",
    "- [021 - Come Back in One Piece（★5）](https://atcoder.jp/contests/typical90/tasks/typical90_u)"
   ]
  },
  {
   "cell_type": "markdown",
   "metadata": {},
   "source": [
    "---"
   ]
  },
  {
   "cell_type": "markdown",
   "metadata": {},
   "source": [
    "### 18. 橋検出\n",
    "<a id=\"橋検出\"></a>\n",
    "\n",
    "- 無向グラフにおいて、「取り除いた時にグラフ全体が非連結になるような辺」を橋という\n",
    "- 元々が連結でない無向グラフについては、「取り除いた時に非連結成分の数が増える辺」を橋とする\n",
    "- 参考サイトは[こちら](https://algo-logic.info/bridge-lowlink/)\n",
    "- 様々な場合の実装例は[こちら](https://tjkendev.github.io/procon-library/python/graph/bridge.html)"
   ]
  },
  {
   "cell_type": "markdown",
   "metadata": {},
   "source": [
    "- lowlink を用いた効率的なアルゴリズム\n",
    "    1. 適当な頂点から、DFS で以下を系sなする\n",
    "        - ord[u]：DFS で頂点 u を何番目に探索したか\n",
    "        - low[u]：u からの後退辺を高々1回まで用いて到達できる頂点 w について、ord[w] の最小値\n",
    "    2. 以下の条件を満たす辺(u, v)が橋\n",
    "        - ord[u] < low[v]"
   ]
  },
  {
   "cell_type": "code",
   "execution_count": null,
   "metadata": {},
   "outputs": [],
   "source": [
    "# Bridge-Finding　# 0-indexed で実装\n",
    "# 橋、二重辺連結成分分解\n",
    "# g: 隣接リスト, v: 頂点数, s: 探索開始地点\n",
    "# DFS木を求めながら橋を見つけ、グラフを縮約していく\n",
    "def bridge_finding(G, N, start=0):\n",
    "    fin = [False] * N\n",
    "    v_cnts = [0] * N\n",
    "    used = [False] * N\n",
    "    bG = [[] for i in range(N)] # 縮約後のグラフ\n",
    "    bV = [[] for i in range(N)] # 各ノードに縮約される元頂点\n",
    "    def dfs(v, prev, edges, conts):\n",
    "        cur_c = prev_c = 0\n",
    "        used[v] = True\n",
    "        conts.append(v)\n",
    "        for w in G[v]:\n",
    "            if used[w]:\n",
    "                if w==prev:\n",
    "                    # (v, prev)の多重辺対応\n",
    "                    if prev_c == 1:\n",
    "                        v_cnts[prev] -= 1\n",
    "                        cur_c += 1\n",
    "                    prev_c += 1\n",
    "                elif not fin[w]:\n",
    "                    v_cnts[w] -= 1\n",
    "                    cur_c += 1\n",
    "            else:\n",
    "                w_edges = []; w_conts = []\n",
    "                ret = dfs(w, v, w_edges, w_conts)\n",
    "                if ret > 0:\n",
    "                    edges += w_edges\n",
    "                    conts += w_conts\n",
    "                else:\n",
    "                    # (v, w)は橋\n",
    "                    bG[w] = w_edges\n",
    "                    for u in w_edges:\n",
    "                        bG[u].append(w)\n",
    "                    bV[w] = w_conts\n",
    "                    edges.append(w)\n",
    "                cur_c += ret\n",
    "        fin[v] = True\n",
    "        cur_c += v_cnts[v]\n",
    "        return cur_c\n",
    "    dfs(start, -1, bG[start], bV[start])\n",
    "    for u in bG[start]:\n",
    "        bG[u].append(start)\n",
    "    return bG#, bV\n",
    "    # bG：縮約後のグラフ"
   ]
  },
  {
   "cell_type": "code",
   "execution_count": null,
   "metadata": {},
   "outputs": [],
   "source": [
    "# 単純に橋となる辺を返す\n",
    "# 0-indexed で実装\n",
    "def bridge(G, N):\n",
    "    result = set()\n",
    "    label = [None]*N\n",
    "    gen = 0\n",
    "    cost = [0]*N\n",
    "    def dfs(u, p):\n",
    "        nonlocal gen\n",
    "        res = 0\n",
    "        for v in G[u]:\n",
    "            if v == p:\n",
    "                continue\n",
    "            if label[v] is not None:\n",
    "                if label[v] < label[u]:\n",
    "                    cost[v] += 1\n",
    "                    res += 1\n",
    "            else:\n",
    "                label[v] = gen; gen += 1\n",
    "                r = dfs(v, u)\n",
    "                if r == 0:\n",
    "                    result.add((u, v) if u < v else (v, u))\n",
    "                res += r\n",
    "        res -= cost[u]\n",
    "        return res\n",
    "    for v in range(N):\n",
    "        if not label[v]:\n",
    "            label[v] = gen; gen += 1\n",
    "            r = dfs(v, -1)\n",
    "            assert r == 0, r\n",
    "    return result"
   ]
  },
  {
   "cell_type": "markdown",
   "metadata": {},
   "source": [
    "**例題**\n",
    "- [ABC075C](https://atcoder.jp/contests/abc075/tasks/abc075_c)"
   ]
  },
  {
   "cell_type": "markdown",
   "metadata": {},
   "source": [
    "---"
   ]
  },
  {
   "cell_type": "markdown",
   "metadata": {},
   "source": [
    "### 19. メモ化再帰\n",
    "<a id=\"メモ化再帰\"></a>\n",
    "- 同じ引数の再帰関数を複数回呼び出す場合、疎の計算結果を保持しておくことで、複数回呼び出さないような実装にする再帰関数\n",
    "- python の場合 @lru_cache を付け加えるだけで、実装できる\n",
    "- **再帰関数は pypy より python で実行する**"
   ]
  },
  {
   "cell_type": "code",
   "execution_count": 5,
   "metadata": {},
   "outputs": [],
   "source": [
    "import sys\n",
    "sys.setrecursionlimit(10**8) # 再帰の呼び出し回数の上限をset\n",
    "\n",
    "# メモ化再帰\n",
    "from functools import lru_cache\n",
    "@lru_cache(maxsize=10**8)\n",
    "def function(x):\n",
    "    return x"
   ]
  },
  {
   "cell_type": "markdown",
   "metadata": {},
   "source": [
    "- @lru_cache の maxsize は，キャッシュに保存できる最大のアイテム数を指定する．\n",
    "- None を指定した場合，キャッシュのサイズ制限がなくなります．つまり、すべての結果がキャッシュに保存され、キャッシュから削除されることはありません。\n",
    "- ```maxsize=None``` を設定することで、以下のようなメリットがあります。\n",
    "    - すべての結果がキャッシュに保存されるため、再帰呼び出しが非常に深い場合でも、キャッシュが使い果たされることはありません。\n",
    "    - 結果を再利用する必要があるため、再帰関数の性能が向上します。"
   ]
  },
  {
   "cell_type": "markdown",
   "metadata": {},
   "source": [
    "**例題**\n",
    "- [ABC275D](https://atcoder.jp/contests/abc275/tasks/abc275_d)"
   ]
  },
  {
   "cell_type": "markdown",
   "metadata": {},
   "source": [
    "---"
   ]
  },
  {
   "cell_type": "markdown",
   "metadata": {},
   "source": [
    "### 20. 辞書順最小部分列\n",
    "<a id=\"辞書順最小部分列\"></a>"
   ]
  },
  {
   "cell_type": "code",
   "execution_count": null,
   "metadata": {},
   "outputs": [],
   "source": []
  },
  {
   "cell_type": "markdown",
   "metadata": {},
   "source": [
    "**例題**\n",
    "- []()\n",
    "- []()"
   ]
  },
  {
   "cell_type": "markdown",
   "metadata": {},
   "source": [
    "---"
   ]
  },
  {
   "cell_type": "markdown",
   "metadata": {},
   "source": [
    "### 21. 座標圧縮\n",
    "<a id=\"座標圧縮\"></a>\n",
    "\n",
    "- 配列 $A=[A_1,A_2,\\dots ,A_N]$ に対して大小関係を崩さずに $B=[B_1,B_2,\\dots ,B_N]$ に圧縮する"
   ]
  },
  {
   "cell_type": "code",
   "execution_count": 22,
   "metadata": {},
   "outputs": [
    {
     "name": "stdout",
     "output_type": "stream",
     "text": [
      "46 80 11 77 46\n",
      "2 4 1 3 2\n"
     ]
    }
   ],
   "source": [
    "A = [46, 80, 11, 77, 46]\n",
    "print(*A)\n",
    "\n",
    "# Aを重複なしリストにてソート\n",
    "A_uniq_sort = sorted(list(set(A)))\n",
    "dic = {}\n",
    "for i, a in enumerate(A_uniq_sort, 1):\n",
    "    dic[a] = i\n",
    "\n",
    "B = []\n",
    "for a in A:\n",
    "    B.append(dic[a])\n",
    "print(*B)"
   ]
  },
  {
   "cell_type": "markdown",
   "metadata": {},
   "source": [
    "**例題**\n",
    "- [A15 - Compression](https://atcoder.jp/contests/tessoku-book/tasks/tessoku_book_o)"
   ]
  },
  {
   "cell_type": "markdown",
   "metadata": {},
   "source": [
    "### 22. 不変量に着目する\n",
    "<a id=\"不変量に着目する\"></a>"
   ]
  },
  {
   "cell_type": "markdown",
   "metadata": {},
   "source": [
    "**例題**\n",
    "- [ABC288D](https://atcoder.jp/contests/abc288/tasks/abc288_d)\n",
    "- []()"
   ]
  },
  {
   "cell_type": "markdown",
   "metadata": {},
   "source": [
    "### 23. 転倒数\n",
    "<a id=\"転倒数\"></a>\n",
    "\n",
    "- 順序関係が逆転しているペアの個数を転倒数という\n",
    "- すなわち転倒数とは、 $1 \\leq i < j  \\leq N$ かつ $A_i > A_j$ を満たすような組 $(i,j)$ の個数です\n",
    "- 転倒数、配列を $[1,2,3,\\dots ,N]$ にするために必要な「隣接要素の交換回数」の最小値と一致する"
   ]
  },
  {
   "cell_type": "markdown",
   "metadata": {},
   "source": [
    "[セグメント木](#セグメント木)を用いた解法"
   ]
  },
  {
   "cell_type": "code",
   "execution_count": null,
   "metadata": {},
   "outputs": [],
   "source": [
    "N = ii()\n",
    "A = lmii()\n",
    "\n",
    "def add(a, b):\n",
    "    return a + b\n",
    "\n",
    "tree = SegmentTree(N, 0, add)\n",
    "tree.build([0]*N)\n",
    "inversion = 0\n",
    "for i, a in enumerate(A):\n",
    "    inversion += tree.fold(a, N)\n",
    "    tree.update(a-1, 1)\n",
    "    \n",
    "print(inversion)"
   ]
  },
  {
   "cell_type": "markdown",
   "metadata": {},
   "source": [
    "**例題**\n",
    "- [A74 - Board Game](https://atcoder.jp/contests/tessoku-book/tasks/tessoku_book_bv)\n",
    "- [B59 - Number of Inversions](https://atcoder.jp/contests/tessoku-book/tasks/tessoku_book_ef)\n",
    "- [ABC190F](https://atcoder.jp/contests/abc190/tasks/abc190_f)\n",
    "- [L - Lazy Segment Tree](https://atcoder.jp/contests/practice2/tasks/practice2_l)"
   ]
  },
  {
   "cell_type": "markdown",
   "metadata": {},
   "source": [
    "### 24. トポロジカルソート\n",
    "<a id=\"トポロジカルソート\"></a>\n",
    "- 有向非巡回グラフ（DAG）の各ノードを順序付けし、どのノードもその出力辺の先のノードより前に来るように並べること\n",
    "- 閉路の存在有無の確認にも利用することができる\n",
    "- [参考サイト](https://output-zakki.com/topological_sort/)"
   ]
  },
  {
   "cell_type": "code",
   "execution_count": 7,
   "metadata": {},
   "outputs": [],
   "source": [
    "from collections import deque\n",
    "# G:有向グラフの隣接行列, N:ノード数\n",
    "def topological_sort(G, N):\n",
    "    # ノードの入次数を管理するリスト\n",
    "    into_num = [0] * (N+1)\n",
    "    for g in G.values():\n",
    "        for p in g:\n",
    "            into_num[p] += 1\n",
    "\n",
    "    #入ってくる有向辺を持たないノードを列挙\n",
    "    q = deque()\n",
    "    #V: 頂点数\n",
    "    for i in range(N+1):\n",
    "        if into_num[i]==0:\n",
    "            q.append(i)\n",
    "    \n",
    "    #以下、幅優先探索\n",
    "    ans = []\n",
    "    while q:\n",
    "        v = q.popleft()\n",
    "        ans.append(v)\n",
    "        for adj in G[v]:\n",
    "            into_num[adj] -= 1 #入次数を減らす\n",
    "            if into_num[adj]==0:\n",
    "                q.append(adj) #入次数が0になったら、キューに入れる\n",
    "    \n",
    "    return ans"
   ]
  },
  {
   "cell_type": "code",
   "execution_count": null,
   "metadata": {},
   "outputs": [],
   "source": [
    "\"\"\"閉路確認\"\"\"\n",
    "ans = topological_sort(G, into_num) #トポロジカルソート\n",
    "#トポロジカルソートされたリストの頂点数　と　元のグラフの頂点数を比較\n",
    "if len(ans)==len(G):\n",
    "    print('閉路なし') #同じ頂点数なら閉路なし\n",
    "else:\n",
    "    print('閉路有り') #頂点数が異なると閉路が存在している"
   ]
  },
  {
   "cell_type": "markdown",
   "metadata": {},
   "source": [
    "**例題**\n",
    "- [ABC291E](https://atcoder.jp/contests/abc291/tasks/abc291_e)\n",
    "- []()"
   ]
  },
  {
   "cell_type": "markdown",
   "metadata": {},
   "source": [
    "### 25. 順序付き集合\n",
    "<a id=\"順序付き集合\"></a>"
   ]
  },
  {
   "cell_type": "markdown",
   "metadata": {},
   "source": [
    "- C++のstd::setをPythonで実装\n",
    "- [参考サイト](https://qiita.com/tatyam/items/492c70ac4c955c055602)\n",
    "- [コードはこちら](https://github.com/tatyam-prime/SortedSet)"
   ]
  },
  {
   "cell_type": "markdown",
   "metadata": {},
   "source": [
    "#### SortedSet"
   ]
  },
  {
   "cell_type": "code",
   "execution_count": null,
   "metadata": {},
   "outputs": [],
   "source": [
    "# https://github.com/tatyam-prime/SortedSet/blob/main/SortedSet.py\n",
    "import math\n",
    "from bisect import bisect_left, bisect_right\n",
    "from typing import Generic, Iterable, Iterator, TypeVar, Optional, List\n",
    "T = TypeVar('T')\n",
    "\n",
    "class SortedSet(Generic[T]):\n",
    "    BUCKET_RATIO = 50\n",
    "    REBUILD_RATIO = 170\n",
    "\n",
    "    def _build(self, a=None) -> None:\n",
    "        \"Evenly divide `a` into buckets.\"\n",
    "        if a is None: a = list(self)\n",
    "        size = self.size = len(a)\n",
    "        bucket_size = int(math.ceil(math.sqrt(size / self.BUCKET_RATIO)))\n",
    "        self.a = [a[size * i // bucket_size : size * (i + 1) // bucket_size] for i in range(bucket_size)]\n",
    "    \n",
    "    def __init__(self, a: Iterable[T] = []) -> None:\n",
    "        \"Make a new SortedSet from iterable. / O(N) if sorted and unique / O(N log N)\"\n",
    "        a = list(a)\n",
    "        if not all(a[i] < a[i + 1] for i in range(len(a) - 1)):\n",
    "            a = sorted(set(a))\n",
    "        self._build(a)\n",
    "\n",
    "    def __iter__(self) -> Iterator[T]:\n",
    "        for i in self.a:\n",
    "            for j in i: yield j\n",
    "\n",
    "    def __reversed__(self) -> Iterator[T]:\n",
    "        for i in reversed(self.a):\n",
    "            for j in reversed(i): yield j\n",
    "    \n",
    "    def __len__(self) -> int:\n",
    "        return self.size\n",
    "    \n",
    "    def __repr__(self) -> str:\n",
    "        return \"SortedSet\" + str(self.a)\n",
    "    \n",
    "    def __str__(self) -> str:\n",
    "        s = str(list(self))\n",
    "        return \"{\" + s[1 : len(s) - 1] + \"}\"\n",
    "\n",
    "    def _find_bucket(self, x: T) -> List[T]:\n",
    "        \"Find the bucket which should contain x. self must not be empty.\"\n",
    "        for a in self.a:\n",
    "            if x <= a[-1]: return a\n",
    "        return a\n",
    "\n",
    "    def __contains__(self, x: T) -> bool:\n",
    "        if self.size == 0: return False\n",
    "        a = self._find_bucket(x)\n",
    "        i = bisect_left(a, x)\n",
    "        return i != len(a) and a[i] == x\n",
    "\n",
    "    def add(self, x: T) -> bool:\n",
    "        \"Add an element and return True if added. / O(√N)\"\n",
    "        if self.size == 0:\n",
    "            self.a = [[x]]\n",
    "            self.size = 1\n",
    "            return True\n",
    "        a = self._find_bucket(x)\n",
    "        i = bisect_left(a, x)\n",
    "        if i != len(a) and a[i] == x: return False\n",
    "        a.insert(i, x)\n",
    "        self.size += 1\n",
    "        if len(a) > len(self.a) * self.REBUILD_RATIO:\n",
    "            self._build()\n",
    "        return True\n",
    "\n",
    "    def discard(self, x: T) -> bool:\n",
    "        \"Remove an element and return True if removed. / O(√N)\"\n",
    "        if self.size == 0: return False\n",
    "        a = self._find_bucket(x)\n",
    "        i = bisect_left(a, x)\n",
    "        if i == len(a) or a[i] != x: return False\n",
    "        a.pop(i)\n",
    "        self.size -= 1\n",
    "        if len(a) == 0: self._build()\n",
    "        return True\n",
    "    \n",
    "    def lt(self, x: T) -> Optional[T]:\n",
    "        \"Find the largest element < x, or None if it doesn't exist.\"\n",
    "        for a in reversed(self.a):\n",
    "            if a[0] < x:\n",
    "                return a[bisect_left(a, x) - 1]\n",
    "\n",
    "    def le(self, x: T) -> Optional[T]:\n",
    "        \"Find the largest element <= x, or None if it doesn't exist.\"\n",
    "        for a in reversed(self.a):\n",
    "            if a[0] <= x:\n",
    "                return a[bisect_right(a, x) - 1]\n",
    "\n",
    "    def gt(self, x: T) -> Optional[T]:\n",
    "        \"Find the smallest element > x, or None if it doesn't exist.\"\n",
    "        for a in self.a:\n",
    "            if a[-1] > x:\n",
    "                return a[bisect_right(a, x)]\n",
    "\n",
    "    def ge(self, x: T) -> Optional[T]:\n",
    "        \"Find the smallest element >= x, or None if it doesn't exist.\"\n",
    "        for a in self.a:\n",
    "            if a[-1] >= x:\n",
    "                return a[bisect_left(a, x)]\n",
    "    \n",
    "    def __getitem__(self, x: int) -> T:\n",
    "        \"Return the x-th element, or IndexError if it doesn't exist.\"\n",
    "        if x < 0: x += self.size\n",
    "        if x < 0: raise IndexError\n",
    "        for a in self.a:\n",
    "            if x < len(a): return a[x]\n",
    "            x -= len(a)\n",
    "        raise IndexError\n",
    "    \n",
    "    def index(self, x: T) -> int:\n",
    "        \"Count the number of elements < x.\"\n",
    "        ans = 0\n",
    "        for a in self.a:\n",
    "            if a[-1] >= x:\n",
    "                return ans + bisect_left(a, x)\n",
    "            ans += len(a)\n",
    "        return ans\n",
    "\n",
    "    def index_right(self, x: T) -> int:\n",
    "        \"Count the number of elements <= x.\"\n",
    "        ans = 0\n",
    "        for a in self.a:\n",
    "            if a[-1] > x:\n",
    "                return ans + bisect_right(a, x)\n",
    "            ans += len(a)\n",
    "        return ans"
   ]
  },
  {
   "cell_type": "markdown",
   "metadata": {},
   "source": [
    "#### SortedMultiset"
   ]
  },
  {
   "cell_type": "code",
   "execution_count": null,
   "metadata": {},
   "outputs": [],
   "source": [
    "# https://github.com/tatyam-prime/SortedSet/blob/main/SortedMultiset.py\n",
    "import math\n",
    "from bisect import bisect_left, bisect_right, insort\n",
    "from typing import Generic, Iterable, Iterator, TypeVar, Optional, List\n",
    "T = TypeVar('T')\n",
    "\n",
    "class SortedMultiset(Generic[T]):\n",
    "    BUCKET_RATIO = 50\n",
    "    REBUILD_RATIO = 170\n",
    "\n",
    "    def _build(self, a=None) -> None:\n",
    "        \"Evenly divide `a` into buckets.\"\n",
    "        if a is None: a = list(self)\n",
    "        size = self.size = len(a)\n",
    "        bucket_size = int(math.ceil(math.sqrt(size / self.BUCKET_RATIO)))\n",
    "        self.a = [a[size * i // bucket_size : size * (i + 1) // bucket_size] for i in range(bucket_size)]\n",
    "    \n",
    "    def __init__(self, a: Iterable[T] = []) -> None:\n",
    "        \"Make a new SortedMultiset from iterable. / O(N) if sorted / O(N log N)\"\n",
    "        a = list(a)\n",
    "        if not all(a[i] <= a[i + 1] for i in range(len(a) - 1)):\n",
    "            a = sorted(a)\n",
    "        self._build(a)\n",
    "\n",
    "    def __iter__(self) -> Iterator[T]:\n",
    "        for i in self.a:\n",
    "            for j in i: yield j\n",
    "\n",
    "    def __reversed__(self) -> Iterator[T]:\n",
    "        for i in reversed(self.a):\n",
    "            for j in reversed(i): yield j\n",
    "    \n",
    "    def __len__(self) -> int:\n",
    "        return self.size\n",
    "    \n",
    "    def __repr__(self) -> str:\n",
    "        return \"SortedMultiset\" + str(self.a)\n",
    "    \n",
    "    def __str__(self) -> str:\n",
    "        s = str(list(self))\n",
    "        return \"{\" + s[1 : len(s) - 1] + \"}\"\n",
    "\n",
    "    def _find_bucket(self, x: T) -> List[T]:\n",
    "        \"Find the bucket which should contain x. self must not be empty.\"\n",
    "        for a in self.a:\n",
    "            if x <= a[-1]: return a\n",
    "        return a\n",
    "\n",
    "    def __contains__(self, x: T) -> bool:\n",
    "        if self.size == 0: return False\n",
    "        a = self._find_bucket(x)\n",
    "        i = bisect_left(a, x)\n",
    "        return i != len(a) and a[i] == x\n",
    "\n",
    "    def count(self, x: T) -> int:\n",
    "        \"Count the number of x.\"\n",
    "        return self.index_right(x) - self.index(x)\n",
    "\n",
    "    def add(self, x: T) -> None:\n",
    "        \"Add an element. / O(√N)\"\n",
    "        if self.size == 0:\n",
    "            self.a = [[x]]\n",
    "            self.size = 1\n",
    "            return\n",
    "        a = self._find_bucket(x)\n",
    "        insort(a, x)\n",
    "        self.size += 1\n",
    "        if len(a) > len(self.a) * self.REBUILD_RATIO:\n",
    "            self._build()\n",
    "\n",
    "    def discard(self, x: T) -> bool:\n",
    "        \"Remove an element and return True if removed. / O(√N)\"\n",
    "        if self.size == 0: return False\n",
    "        a = self._find_bucket(x)\n",
    "        i = bisect_left(a, x)\n",
    "        if i == len(a) or a[i] != x: return False\n",
    "        a.pop(i)\n",
    "        self.size -= 1\n",
    "        if len(a) == 0: self._build()\n",
    "        return True\n",
    "\n",
    "    def lt(self, x: T) -> Optional[T]:\n",
    "        \"Find the largest element < x, or None if it doesn't exist.\"\n",
    "        for a in reversed(self.a):\n",
    "            if a[0] < x:\n",
    "                return a[bisect_left(a, x) - 1]\n",
    "\n",
    "    def le(self, x: T) -> Optional[T]:\n",
    "        \"Find the largest element <= x, or None if it doesn't exist.\"\n",
    "        for a in reversed(self.a):\n",
    "            if a[0] <= x:\n",
    "                return a[bisect_right(a, x) - 1]\n",
    "\n",
    "    def gt(self, x: T) -> Optional[T]:\n",
    "        \"Find the smallest element > x, or None if it doesn't exist.\"\n",
    "        for a in self.a:\n",
    "            if a[-1] > x:\n",
    "                return a[bisect_right(a, x)]\n",
    "\n",
    "    def ge(self, x: T) -> Optional[T]:\n",
    "        \"Find the smallest element >= x, or None if it doesn't exist.\"\n",
    "        for a in self.a:\n",
    "            if a[-1] >= x:\n",
    "                return a[bisect_left(a, x)]\n",
    "    \n",
    "    def __getitem__(self, x: int) -> T:\n",
    "        \"Return the x-th element, or IndexError if it doesn't exist.\"\n",
    "        if x < 0: x += self.size\n",
    "        if x < 0: raise IndexError\n",
    "        for a in self.a:\n",
    "            if x < len(a): return a[x]\n",
    "            x -= len(a)\n",
    "        raise IndexError\n",
    "\n",
    "    def index(self, x: T) -> int:\n",
    "        \"Count the number of elements < x.\"\n",
    "        ans = 0\n",
    "        for a in self.a:\n",
    "            if a[-1] >= x:\n",
    "                return ans + bisect_left(a, x)\n",
    "            ans += len(a)\n",
    "        return ans\n",
    "\n",
    "    def index_right(self, x: T) -> int:\n",
    "        \"Count the number of elements <= x.\"\n",
    "        ans = 0\n",
    "        for a in self.a:\n",
    "            if a[-1] > x:\n",
    "                return ans + bisect_right(a, x)\n",
    "            ans += len(a)\n",
    "        return ans"
   ]
  },
  {
   "cell_type": "markdown",
   "metadata": {},
   "source": [
    "**例題**\n",
    "- [ABC217D](https://atcoder.jp/contests/abc217/tasks/abc217_d)\n",
    "- [ABC281E](https://atcoder.jp/contests/abc281/tasks/abc281_e)"
   ]
  },
  {
   "cell_type": "markdown",
   "metadata": {},
   "source": [
    "### 26. ワーシャルフロイド法\n",
    "<a id=\"ワーシャルフロイド法\"></a>"
   ]
  },
  {
   "cell_type": "markdown",
   "metadata": {},
   "source": [
    "- **ダイクストラ法**\n",
    "    - ある1つの始点から、他の全ての頂点への最短経路を求めるアルゴリズム\n",
    "- **ワーシャルフロイド法**\n",
    "    - 全ペアの最短経路を求めるアルゴリズム。頂点の数を $N$ とすると計算量は $O(N^3)$ である\n",
    "    - 参考動画は[こちら](https://www.youtube.com/watch?v=qUICO9qz5E8)"
   ]
  },
  {
   "cell_type": "code",
   "execution_count": null,
   "metadata": {},
   "outputs": [],
   "source": [
    "N, M = mii()\n",
    "ABC = llii(M) # A → B へ 重み C で移動可能\n",
    "\n",
    "inf = 10 ** 18\n",
    "\n",
    "# 隣接行列\n",
    "L = [[inf] * N for _ in range(N)]\n",
    "for i in range(N):\n",
    "    L[i][i] = 0  \n",
    "for a, b, c in ABC:\n",
    "    L[a-1][b-1] = c\n",
    "    \n",
    "for k in range(N):\n",
    "    #LL = [[None] * N for _ in range(N)]\n",
    "    for s in range(N):\n",
    "        for t in range(N):\n",
    "            #LL[s][t] = min(L[s][t], L[s][k] + L[k][t])\n",
    "            L[s][t] = min(L[s][t], L[s][k] + L[k][t])\n",
    "    #L = LL\n",
    "    \n",
    "# 以上で L は s → t への最短経路が格納された隣接行列となった"
   ]
  },
  {
   "cell_type": "markdown",
   "metadata": {},
   "source": [
    "**例題**\n",
    "- [ABC208D](https://atcoder.jp/contests/abc208/tasks/abc208_d)\n",
    "- [ABC286E](https://atcoder.jp/contests/abc286/tasks/abc286_e)"
   ]
  },
  {
   "cell_type": "markdown",
   "metadata": {},
   "source": [
    "### 27. 尺取り法\n",
    "<a id=\"尺取り法\"></a>"
   ]
  },
  {
   "cell_type": "markdown",
   "metadata": {},
   "source": [
    "$N$ 段の階段（ $k$ 段目の段差は $h_k$ です）があります。高橋君は $P$ 以下の段を一度に上がることができます。"
   ]
  },
  {
   "cell_type": "code",
   "execution_count": 4,
   "metadata": {},
   "outputs": [
    {
     "name": "stdout",
     "output_type": "stream",
     "text": [
      "6 10\n",
      "3\n",
      "8\n",
      "2\n",
      "4\n",
      "3\n",
      "6\n",
      "[(0, 1), (1, 3), (2, 5), (3, 5), (4, 6), (5, 6)]\n",
      "[(0, 0), (0, 1), (1, 2), (1, 3), (2, 4), (2, 5), (4, 6)]\n"
     ]
    }
   ],
   "source": [
    "N, P = mii()\n",
    "mod = 1234567\n",
    "H = lii(N)\n",
    "\n",
    "\"\"\"左端を固定する方法\"\"\"\n",
    "tmp = 0\n",
    "r = 0\n",
    "inP = []\n",
    "for l in range(N):\n",
    "  while r < N and tmp + H[r] <= P:\n",
    "    tmp += H[r]\n",
    "    r += 1\n",
    "  inP.append((l,r))\n",
    "  if r - l >= 1:\n",
    "    tmp -= H[l]\n",
    "  else:\n",
    "    r += 1\n",
    "print(inP)\n",
    "\n",
    "\"\"\"右端を固定する方法\"\"\"\n",
    "tmp = 0\n",
    "l = 0\n",
    "inP = []\n",
    "for r in range(N+1):\n",
    "  while l < r and tmp > P:\n",
    "    tmp -= H[l]\n",
    "    l += 1\n",
    "  if r < N:\n",
    "    tmp += H[r]\n",
    "  inP.append((l,r))\n",
    "print(inP)"
   ]
  },
  {
   "cell_type": "markdown",
   "metadata": {},
   "source": [
    "**例題**\n",
    "- [ABC038C](https://atcoder.jp/contests/abc038/tasks/abc038_c)\n",
    "- [ARC022B](https://atcoder.jp/contests/arc022/tasks/arc022_2)\n",
    "- [I - ピザ](https://atcoder.jp/contests/past202010-open/tasks/past202010_i)"
   ]
  },
  {
   "cell_type": "markdown",
   "metadata": {},
   "source": [
    "### 28. 最小共通祖先(Lowest Common Ancestor)\n",
    "<a id=\"最小共通祖先\"></a>\n",
    "- 根付き木における、頂点 $u$, $v$ の共通祖先とは、$u$ の祖先でも $v$ の祖先でもある頂点であり、その頂点のうち、深さが最も深いものが、<br>**最小共通祖先（LCA：Lowest Common Ancestor）**である"
   ]
  },
  {
   "cell_type": "code",
   "execution_count": null,
   "metadata": {},
   "outputs": [],
   "source": [
    "import math\n",
    "\n",
    "class LowestCommonAncestor:\n",
    "    def __init__(self, n):\n",
    "        self._n = n\n",
    "        self._logn = int(math.log2(self._n) + 2)\n",
    "        self._depth = [0 for _ in range(self._n)]\n",
    "        self._distance = [0 for _ in range(self._n)]\n",
    "        self._ancestor = [\n",
    "            [-1 for _ in range(self._n)]\n",
    "            for k in range(self._logn)\n",
    "        ]\n",
    "        self._edges = [[] for _ in range(self._n)]\n",
    "\n",
    "    # (u, v) 間 (0-indexed) に重み w の辺を追加\n",
    "    def add_edge(self, u, v, w=1):\n",
    "        self._edges[u].append((v, w))\n",
    "        self._edges[v].append((u, w))\n",
    "\n",
    "    # 根を root にした木に対して計算\n",
    "    def build(self, root=0):\n",
    "        stack = [root]\n",
    "        while len(stack):\n",
    "            cur = stack.pop()\n",
    "            for nxt, w in self._edges[cur]:\n",
    "                if (\n",
    "                    self._ancestor[0][nxt] != cur and\n",
    "                    self._ancestor[0][cur] != nxt\n",
    "                ):\n",
    "                    self._ancestor[0][nxt] = cur\n",
    "                    self._depth[nxt] = self._depth[cur] + 1\n",
    "                    self._distance[nxt] = self._distance[cur] + w\n",
    "                    stack.append(nxt)\n",
    "\n",
    "        for k in range(1, self._logn):\n",
    "            for i in range(self._n):\n",
    "                if self._ancestor[k - 1][i] == -1:\n",
    "                    self._ancestor[k][i] = -1\n",
    "                else:\n",
    "                    self._ancestor[k][i] = \\\n",
    "                        self._ancestor[k - 1][self._ancestor[k - 1][i]]\n",
    "\n",
    "    # u と v (0-indexed) の LCA を求める\n",
    "    def lca(self, u, v):\n",
    "        # u よりも v のほうが深い状態にしておく\n",
    "        if self._depth[u] > self._depth[v]:\n",
    "            u, v = v, u\n",
    "\n",
    "        # v の深さを u に合わせる\n",
    "        for k in range(self._logn - 1, -1, -1):\n",
    "            if ((self._depth[v] - self._depth[u]) >> k) & 1:\n",
    "                v = self._ancestor[k][v]\n",
    "\n",
    "        # この時点で一致していれば、それが答え\n",
    "        if u == v:\n",
    "            return u\n",
    "\n",
    "        # u, v がギリギリ一致しないように親方向に登る\n",
    "        for k in range(self._logn - 1, -1, -1):\n",
    "            if self._ancestor[k][u] != self._ancestor[k][v]:\n",
    "                u = self._ancestor[k][u]\n",
    "                v = self._ancestor[k][v]\n",
    "\n",
    "        # 最後に 1 ステップ親方向に登ったところが LCA になる\n",
    "        return self._ancestor[0][u]\n",
    "\n",
    "    # u と v (0-indexed) の距離を求める\n",
    "    def distance(self, u, v):\n",
    "        return (\n",
    "            self._distance[u] +\n",
    "            self._distance[v] -\n",
    "            2 * self._distance[self.lca(u, v)]\n",
    "        )\n",
    "    \n",
    "    \n",
    "N = ii()\n",
    "AB = llii(N-1)\n",
    "Q = ii()\n",
    "UV = llii(Q)\n",
    "\n",
    "tree = LowestCommonAncestor(N)\n",
    "for a, b in AB:\n",
    "  tree.add_edge(a-1, b-1)\n",
    "tree.build()\n",
    "\n",
    "for u, v in UV:\n",
    "  ans = tree.lca(u-1, v-1) + 1\n",
    "  print(ans)"
   ]
  },
  {
   "cell_type": "code",
   "execution_count": null,
   "metadata": {},
   "outputs": [],
   "source": [
    "# 少し改良されているパターン\n",
    "class LowestCommonAncestor:\n",
    "    def __init__(self, n):\n",
    "        self._n = n\n",
    "        self._logn = int(math.log2(self._n) + 2)\n",
    "        self._depth = [0 for _ in range(self._n)]\n",
    "        self._ancestor = [\n",
    "            [-1 for _ in range(self._n)]\n",
    "            for k in range(self._logn)\n",
    "        ]\n",
    "        self._parent_edge_id = [\n",
    "            -1 for _ in range(self._n)\n",
    "        ]  # 親と接続している辺の番号\n",
    "        self._edges = [[] for _ in range(self._n)]\n",
    "\n",
    "    # (u, v) 間 (0-indexed) に、edge_id 番目の辺を追加\n",
    "    def add_edge(self, u, v, edge_id):\n",
    "        self._edges[u].append((v, edge_id))\n",
    "        self._edges[v].append((u, edge_id))\n",
    "\n",
    "    # 根を root にした木に対して計算\n",
    "    def build(self, root=0):\n",
    "        stack = [root]\n",
    "        while len(stack):\n",
    "            cur = stack.pop()\n",
    "            for nxt, edge_id in self._edges[cur]:\n",
    "                if (\n",
    "                    self._ancestor[0][nxt] != cur and\n",
    "                    self._ancestor[0][cur] != nxt\n",
    "                ):\n",
    "                    self._ancestor[0][nxt] = cur\n",
    "                    self._parent_edge_id[nxt] = edge_id\n",
    "                    self._depth[nxt] = self._depth[cur] + 1\n",
    "                    stack.append(nxt)\n",
    "\n",
    "        for k in range(1, self._logn):\n",
    "            for i in range(self._n):\n",
    "                if self._ancestor[k - 1][i] == -1:\n",
    "                    self._ancestor[k][i] = -1\n",
    "                else:\n",
    "                    self._ancestor[k][i] = \\\n",
    "                        self._ancestor[k - 1][self._ancestor[k - 1][i]]\n",
    "\n",
    "    # 頂点 v の親と接続する辺の番号を返す\n",
    "    def get_parent_edge_id(self, v):\n",
    "        return self._parent_edge_id[v]\n",
    "\n",
    "    # 頂点 v の親を返す\n",
    "    def get_parent(self, v):\n",
    "        return self._ancestor[0][v]\n",
    "\n",
    "    # 頂点 v の深さを返す\n",
    "    def get_depth(self, v):\n",
    "        return self._depth[v]\n",
    "\n",
    "    # u と v (0-indexed) の LCA を求める\n",
    "    def lca(self, u, v):\n",
    "        # u よりも v のほうが深い状態にしておく\n",
    "        if self._depth[u] > self._depth[v]:\n",
    "            u, v = v, u\n",
    "\n",
    "        # v の深さを u に合わせる\n",
    "        for k in range(self._logn - 1, -1, -1):\n",
    "            if ((self._depth[v] - self._depth[u]) >> k) & 1:\n",
    "                v = self._ancestor[k][v]\n",
    "\n",
    "        # この時点で一致していれば、それが答え\n",
    "        if u == v:\n",
    "            return u\n",
    "\n",
    "        # u, v がギリギリ一致しないように親方向に登る\n",
    "        for k in range(self._logn - 1, -1, -1):\n",
    "            if self._ancestor[k][u] != self._ancestor[k][v]:\n",
    "                u = self._ancestor[k][u]\n",
    "                v = self._ancestor[k][v]\n",
    "\n",
    "        # 最後に 1 ステップ親方向に登ったところが LCA になる\n",
    "        return self._ancestor[0][u]\n",
    "\n",
    "    # u と v (0-indexed) の距離を求める\n",
    "    def distance(self, u, v):\n",
    "        return (\n",
    "            self._depth[u] +\n",
    "            self._depth[v] -\n",
    "            2 * self._depth[self.lca(u, v)]\n",
    "        )"
   ]
  },
  {
   "cell_type": "markdown",
   "metadata": {},
   "source": [
    "**例題**\n",
    "- [D - 最小共通祖先](https://atcoder.jp/contests/pastbook2022/tasks/pastbook2022_d)\n",
    "- [K - 巨大企業](https://atcoder.jp/contests/past201912-open/tasks/past201912_k)"
   ]
  },
  {
   "cell_type": "markdown",
   "metadata": {},
   "source": [
    "### 29. 最小費用流問題\n",
    "<a id=\"最小費用流問題\"></a>\n",
    "- [F - 最小費用流](https://atcoder.jp/contests/pastbook2022/tasks/pastbook2022_f)\n",
    "- 始点 $S$ から終点 $T$ までフローを $F$ だけ流す際に発生するコストを最小化する問題\n",
    "- 最小費用流問題のグラフでは、負のコストの辺（負辺）を持つ。負辺を持つグラフでは、ダイクストラ法をそのまま用いることができないため、  \n",
    "  **ベルマンフォード法**というアルゴリズムを用いて、始点から終点への最短経路を求める。"
   ]
  },
  {
   "cell_type": "code",
   "execution_count": null,
   "metadata": {},
   "outputs": [],
   "source": [
    "INF = 1e100\n",
    "V, E, F = map(int, input().split())\n",
    "G = [[] for _ in range(V)]\n",
    "\n",
    "def add_edge(u, v, capacity, cost):\n",
    "    G[u].append((v, capacity, cost, len(G[v])))\n",
    "    G[v].append((u, 0, -cost, len(G[u]) - 1))\n",
    "\n",
    "def bellman_ford(s):\n",
    "    dist = [INF] * V\n",
    "    dist[s] = 0\n",
    "    pv = [0] * V\n",
    "    pe = [0] * V\n",
    "    while True:\n",
    "        update = False\n",
    "        for v in range(V):\n",
    "            if dist[v] == INF:\n",
    "                continue\n",
    "            for i in range(len(G[v])):\n",
    "                next, capacity, cost, _ = G[v][i]\n",
    "                if capacity > 0 and dist[next] > dist[v] + cost:\n",
    "                    dist[next] = dist[v] + cost\n",
    "                    update = True\n",
    "                    pv[next] = v\n",
    "                    pe[next] = i\n",
    "        if not update:\n",
    "            break\n",
    "    return dist, pv, pe\n",
    "\n",
    "def calc_min_cost_flow(s, t, f):\n",
    "    result = 0\n",
    "    while f > 0:\n",
    "        dist, pv, pe = bellman_ford(s)\n",
    "        if dist[t] == INF:\n",
    "            return INF\n",
    "        flow = f\n",
    "        v = t\n",
    "        while v != s:\n",
    "            flow = min(flow, G[pv[v]][pe[v]][1])\n",
    "            v = pv[v]\n",
    "        result += flow * dist[t]\n",
    "        f -= flow\n",
    "        v = t\n",
    "        while v != s:\n",
    "            # 辺の情報を持つタプルを分解する\n",
    "            dest, capacity, cost, r = G[pv[v]][pe[v]]\n",
    "            # 辺の容量を更新する\n",
    "            capacity -= flow\n",
    "            # 書き換え終わったので、タプルに戻す\n",
    "            G[pv[v]][pe[v]] = (dest, capacity, cost, r)\n",
    "            # 逆辺についても同様にする\n",
    "            rev = G[pv[v]][pe[v]][3]\n",
    "            dest, capacity, cost, r = G[v][rev]\n",
    "            capacity += flow\n",
    "            G[v][rev] = (dest, capacity, cost, r)\n",
    "            v = pv[v]\n",
    "    return result\n",
    "\n",
    "for _ in range(E):\n",
    "    u, v, capacity, cost = map(int, input().split())\n",
    "    u -= 1\n",
    "    v -= 1\n",
    "    add_edge(u, v, capacity, cost)\n",
    "ans = calc_min_cost_flow(0, V - 1, F)\n",
    "print(ans)"
   ]
  },
  {
   "cell_type": "markdown",
   "metadata": {},
   "source": [
    "---"
   ]
  },
  {
   "cell_type": "markdown",
   "metadata": {},
   "source": [
    "## ゲーム理論\n",
    "<a id=\"ゲーム理論\"></a>\n",
    "1. [必勝法](#必勝法)\n",
    "2. [ニム](#ニム)\n",
    "3. [Grundy数](#Grundy数)"
   ]
  },
  {
   "cell_type": "markdown",
   "metadata": {},
   "source": [
    "---"
   ]
  },
  {
   "cell_type": "markdown",
   "metadata": {},
   "source": [
    "### 1. 必勝法\n",
    "<a id=\"必勝法\"></a>"
   ]
  },
  {
   "cell_type": "markdown",
   "metadata": {},
   "source": [
    "- 2人があるゲームをする場合、先手と後手のどちらが勝つか？\n",
    "    - 先手必勝であることを勝ち状態、後手必勝であることを負け状態と呼ぶこととして、以下のような規則で、DPのように状態をもとめていく\n",
    "    - 負け状態になる条件\n",
    "        - 負けの状態に遷移するような行動が存在しない\n",
    "        - 特に取れる行動がない場合\n",
    "    - 勝ち状態になる条件\n",
    "        - 負けの状態に遷移するような行動が存在する\n",
    "        \n",
    "**例題**\n",
    "- [A32 - Game 1](https://atcoder.jp/contests/tessoku-book/tasks/tessoku_book_af)\n",
    "- [B32 - Game 5](https://atcoder.jp/contests/tessoku-book/tasks/tessoku_book_de)"
   ]
  },
  {
   "cell_type": "markdown",
   "metadata": {},
   "source": [
    "- あるゴール地点に向かって、一つの駒を交互に進める。各マスに到達することで、点数を得ることができる。両者が最適に駒を進めたとき、ゴール地点で得点が高い方はどちらになるか？\n",
    "    - ゴールの方向からスタートに向かって考えていく。DPの要領で、各地点をスタートとしたときの勝者あるいは得点を、ゴールの方向から求めていく\n",
    "\n",
    "**例題**\n",
    "- [ABC201D](https://atcoder.jp/contests/abc201/tasks/abc201_d)\n",
    "    - [解説](https://atcoder.jp/contests/abc201/editorial/480)\n",
    "    - [コード](https://atcoder.jp/contests/abc201/submissions/42757137)"
   ]
  },
  {
   "cell_type": "markdown",
   "metadata": {},
   "source": [
    "---"
   ]
  },
  {
   "cell_type": "markdown",
   "metadata": {},
   "source": [
    "### 2. ニム\n",
    "<a id=\"ニム\"></a>\n",
    "- ニムとは\n",
    "    - $A_1,\\dots , A_N$ 個の石が積まれている山があり、一つの山から石をとる操作を交互に行うゲーム\n",
    "- 勝敗判定法\n",
    "    - $A_1 \\mathrm{XOR} \\dots \\mathrm{XOR} A_N = 0$ のとき**後手必勝**、 $\\neq 0$ のとき先手必勝"
   ]
  },
  {
   "cell_type": "code",
   "execution_count": null,
   "metadata": {},
   "outputs": [],
   "source": [
    "A = list(map(int,input().split()))\n",
    "\n",
    "nim_sum = 0\n",
    "for a in A:\n",
    "    nim_sum ^= a\n",
    "\n",
    "print(\"Second\") if nim_sum == 0 else print(\"First\")"
   ]
  },
  {
   "cell_type": "markdown",
   "metadata": {},
   "source": [
    "**例題**\n",
    "- [A33 - Game 2](https://atcoder.jp/contests/tessoku-book/tasks/tessoku_book_ag)\n",
    "- [B33 - Game 6](https://atcoder.jp/contests/tessoku-book/tasks/tessoku_book_df)"
   ]
  },
  {
   "cell_type": "markdown",
   "metadata": {},
   "source": [
    "---"
   ]
  },
  {
   "cell_type": "markdown",
   "metadata": {},
   "source": [
    "### 3. Grundy数\n",
    "<a id=\"Grundy数\"></a>\n",
    "- ゲームの局面に対して割り当てられる 0 以上の整数\n",
    "- 決着がつく状態のGrundy数は 0\n",
    "- 計算法\n",
    "    - ある状態の Grundy 数は、遷移できる状態の Grundy 数に含まれない最小の非負整数\n",
    "- 勝敗判定法（山 $i$ の Grundy 数を $G_i$ とする）\n",
    "    - $G_1 \\mathrm{XOR} \\dots \\mathrm{XOR} G_N = 0$ のとき**後手必勝**、 $\\neq 0$ のとき先手必勝"
   ]
  },
  {
   "cell_type": "code",
   "execution_count": null,
   "metadata": {},
   "outputs": [],
   "source": [
    "import sys\n",
    "\n",
    "N, X, Y = map(int,input().split())\n",
    "A = list(map(int,input().split()))\n",
    "\n",
    "A_max = 100000\n",
    "\n",
    "G = [0]\n",
    "S = {0,1,2}\n",
    "# 各局面でのGrundy数を求める\n",
    "for i in range(1, A_max+10):\n",
    "    if i < X:\n",
    "        G.append(0)\n",
    "    elif i < Y:\n",
    "        G.append( min(S-{G[i-X]}) )\n",
    "    else:\n",
    "        G.append( min(S-{G[i-X], G[i-Y]}) )\n",
    "# 各山におけるGrundy数のニム和を計算する\n",
    "nim_sum = 0\n",
    "for a in A:\n",
    "    nim_sum ^= G[a]\n",
    "# ニム和が0であれば後手必勝\n",
    "print(\"Second\") if nim_sum == 0 else print(\"First\")"
   ]
  },
  {
   "cell_type": "markdown",
   "metadata": {},
   "source": [
    "**例題**\n",
    "- [A34 - Game 3](https://atcoder.jp/contests/tessoku-book/tasks/tessoku_book_ah)\n",
    "- [B34 - Game 7](https://atcoder.jp/contests/tessoku-book/tasks/tessoku_book_dg)"
   ]
  },
  {
   "cell_type": "markdown",
   "metadata": {},
   "source": [
    "---"
   ]
  }
 ],
 "metadata": {
  "kernelspec": {
   "display_name": "Python 3 (ipykernel)",
   "language": "python",
   "name": "python3"
  },
  "language_info": {
   "codemirror_mode": {
    "name": "ipython",
    "version": 3
   },
   "file_extension": ".py",
   "mimetype": "text/x-python",
   "name": "python",
   "nbconvert_exporter": "python",
   "pygments_lexer": "ipython3",
   "version": "3.9.13"
  }
 },
 "nbformat": 4,
 "nbformat_minor": 4
}
