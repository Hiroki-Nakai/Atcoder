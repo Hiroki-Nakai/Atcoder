{
 "cells": [
  {
   "cell_type": "code",
   "execution_count": 1,
   "id": "5ceb842b",
   "metadata": {},
   "outputs": [
    {
     "data": {
      "text/html": [
       "<link rel=\"stylesheet\" href=\"./style.css\">\n",
       "<div id=\"page_top\"><a href=\"#top\"></a></div>\n"
      ],
      "text/plain": [
       "<IPython.core.display.HTML object>"
      ]
     },
     "metadata": {},
     "output_type": "display_data"
    }
   ],
   "source": [
    "%%html\n",
    "<link rel=\"stylesheet\" href=\"./style.css\">\n",
    "<div id=\"page_top\"><a href=\"#top\"></a></div>"
   ]
  },
  {
   "cell_type": "markdown",
   "id": "dab442e3",
   "metadata": {},
   "source": [
    "# ヒューリスティックコンテスト"
   ]
  },
  {
   "cell_type": "markdown",
   "id": "7477840c",
   "metadata": {},
   "source": [
    "- 最適解を出すことが難しい問いに対して，できるだけ良い解を出すプログラムを書き，そのスコアを競うコンテスト"
   ]
  },
  {
   "cell_type": "markdown",
   "id": "35fb1169",
   "metadata": {},
   "source": [
    "## tips\n",
    "\n",
    "1. [乱数生成](#乱数生成)\n",
    "2. [time関数](#time関数)"
   ]
  },
  {
   "cell_type": "markdown",
   "id": "b68af123",
   "metadata": {},
   "source": [
    "### 1. 乱数生成\n",
    "<a id=\"乱数生成\"></a>"
   ]
  },
  {
   "cell_type": "code",
   "execution_count": 18,
   "id": "858cdfc9",
   "metadata": {},
   "outputs": [
    {
     "name": "stdout",
     "output_type": "stream",
     "text": [
      "0.8075432720585638\n",
      "1.0491422431822028\n",
      "3\n",
      "b\n",
      "['e', 'a', 'd', 'b', 'c']\n"
     ]
    }
   ],
   "source": [
    "import random\n",
    "\n",
    "# 0以上1未満のfloat型の乱数を取得\n",
    "r = random.random()\n",
    "print(r)\n",
    "\n",
    "# 指定した範囲の乱数を取得(a以上b以下の実数を生成)\n",
    "a, b = 1, 3\n",
    "r = random.uniform(a,b)\n",
    "print(r)\n",
    "\n",
    "# 指定した範囲の整数の乱数を取得(a以上b以下の整数を生成)\n",
    "a, b = 1, 3\n",
    "r = random.randint(a,b)\n",
    "print(r)\n",
    "\n",
    "# 配列の中身をランダムに取得\n",
    "L = [\"a\", \"b\", \"c\", \"d\", \"e\"]\n",
    "r = random.choice(L)\n",
    "print(r)\n",
    "\n",
    "# 配列の中身をシャッフル\n",
    "L = [\"a\", \"b\", \"c\", \"d\", \"e\"]\n",
    "random.shuffle(L)\n",
    "print(L)"
   ]
  },
  {
   "cell_type": "markdown",
   "id": "958ade4a",
   "metadata": {},
   "source": [
    "### 2. time関数\n",
    "<a id=\"time関数\"></a>\n",
    "\n",
    "- 例えば[山登り法](#局所探索法)や[焼きなまし法](#焼きなまし法)において，ループ回数を設定するのではなく，実行時間制限のギリギリまで，繰り返し処理を行いたい.\n",
    "- その際にtime関数を使用して，プログラムの実行時間を管理する．"
   ]
  },
  {
   "cell_type": "code",
   "execution_count": 2,
   "id": "98a243cd",
   "metadata": {},
   "outputs": [],
   "source": [
    "import time\n",
    "time_limit = 5.4\n",
    "tm = time.time()\n",
    "\n",
    "loops = 0\n",
    "while time.time() - tm < time_limit:\n",
    "    # 山登り法，焼きなまし法の更新処理を行う\n",
    "    loops += 1"
   ]
  },
  {
   "cell_type": "markdown",
   "id": "8b23f9e2",
   "metadata": {},
   "source": [
    "## 解法アプローチ\n",
    "\n",
    "1. [貪欲法](#貪欲法)\n",
    "2. [局所探索法](#局所探索法)\n",
    "3. [焼きなまし法](#焼きなまし法)\n",
    "4. [ビームサーチ](#ビームサーチ)\n",
    "5. [評価関数の工夫](#評価関数の工夫)\n",
    "6. [](#)\n",
    "7. [](#)\n",
    "8. [](#)\n",
    "9. [](#)\n",
    "10. [](#)"
   ]
  },
  {
   "cell_type": "markdown",
   "id": "a6e6a656",
   "metadata": {},
   "source": [
    "### 1. 貪欲法\n",
    "<a id=\"貪欲法\"></a>\n",
    "\n",
    "- 一手先の評価値を最大化する手を打ち続ける方法\n",
    "- 例えば巡回セールスマン問題の場合，今いる都市から，選ぶことのできる都市の中で一番近い都市に移動する"
   ]
  },
  {
   "cell_type": "markdown",
   "id": "58466a3d",
   "metadata": {},
   "source": [
    "### 2. 局所探索法\n",
    "<a id=\"局所探索法\"></a>\n",
    "\n",
    "- 小さい変更をランダムに行い，買いが改善されたら，その変更を採用することを繰り返し，徐々に買いの質を高める手法\n",
    "- 必ずしも最適解にたどり着くという保証はなく，局所解に陥る可能性がある\n",
    "- 山登り法とも言う"
   ]
  },
  {
   "cell_type": "markdown",
   "id": "4cd590b8",
   "metadata": {},
   "source": [
    "### 3. 焼きなまし法\n",
    "<a id=\"焼きなまし法\"></a>\n",
    "\n",
    "- 局所探索法を改善した手法\n",
    "- 局所解から抜け出すように，一定の確率でスコアが悪化する変更を許す\n",
    "- スコアの落差を $\\Delta$ が大きいほどその変更を行う確率 $p$ を下げることが多く，具体的に次式を利用することが多い．ここで $T$ は変更の許容確率を制御するパラメータである．$T$ が大きいほど悪化を許す確率が高くなり，低いほど悪化を許す確率は低くなる．\n",
    "$$ p = \\left\\{ \\begin{align*} 1 & \\ (スコアが改善する場合) \\\\ \\exp^{-\\Delta / T} & \\ (スコアが悪化する場合) \\end{align*} \\right.$$\n",
    "\n",
    "```python\n",
    "import math, random\n",
    "mm = (30, 28)\n",
    "for loop in range(NUM_LOOPS):\n",
    "    T = mm[0] - mm[1] * loop / NUM_LOOPS # ループの回数を重ねるにつれて，悪化を許す確率を低くする(mmは任意の値に設定してよい)\n",
    "    probability = math.exp(min(0, (now-new) /  T))\n",
    "    if random.random() < probability:\n",
    "        \"\"\"ここに変更を記述\"\"\"\n",
    "        now = new # スコアの更新\n",
    "```"
   ]
  },
  {
   "cell_type": "markdown",
   "id": "0f3efe35",
   "metadata": {},
   "source": [
    "### 4. ビームサーチ\n",
    "<a id=\"ビームサーチ\"></a>\n",
    "\n",
    "- 各段階において，スコアが上位 $k$ 個となるものを残して探索を進める手法．ここで $k$ をビーム幅と呼ぶ．"
   ]
  },
  {
   "cell_type": "markdown",
   "id": "b70cfc28",
   "metadata": {},
   "source": [
    "### 5. 評価関数の工夫\n",
    "<a id=\"評価関数の工夫\"></a>\n",
    "\n",
    "- [例題](https://atcoder.jp/contests/tessoku-book/tasks/tessoku_book_aw)において，①評価関数を問題文に記載の通り（$X[j]=0$ となる $j$ の個数）とするより，②「配列 $X$ の各要素の絶対値の総和」としたほうが，同じ貪欲法でも良い解を得ることができる．\n",
    "    - [①のコード](https://atcoder.jp/contests/tessoku-book/submissions/44479668): 37454点\n",
    "    - [②のコード](https://atcoder.jp/contests/tessoku-book/submissions/44479684): 40978点"
   ]
  }
 ],
 "metadata": {
  "kernelspec": {
   "display_name": "Python 3 (ipykernel)",
   "language": "python",
   "name": "python3"
  },
  "language_info": {
   "codemirror_mode": {
    "name": "ipython",
    "version": 3
   },
   "file_extension": ".py",
   "mimetype": "text/x-python",
   "name": "python",
   "nbconvert_exporter": "python",
   "pygments_lexer": "ipython3",
   "version": "3.11.3"
  }
 },
 "nbformat": 4,
 "nbformat_minor": 5
}
